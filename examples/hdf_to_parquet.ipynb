{
 "cells": [
  {
   "cell_type": "code",
   "execution_count": 1,
   "id": "539a4795-de79-414e-b1c9-76323f5029f1",
   "metadata": {},
   "outputs": [],
   "source": [
    "import numpy as np\n",
    "import pandas as pd\n",
    "import glob\n",
    "import sys\n",
    "import h5py\n",
    "#from netCDF4 import Dataset\n",
    "from datetime import datetime\n",
    "from tqdm.notebook import tqdm\n",
    "import matplotlib.pyplot as plt\n",
    "from scipy.spatial import cKDTree\n",
    "\n",
    "import pyarrow as pa\n",
    "import pyarrow.parquet as pqw\n",
    "\n",
    "from functools import reduce\n",
    "import operator\n",
    "import gc"
   ]
  },
  {
   "cell_type": "code",
   "execution_count": 2,
   "id": "2ee3e86e-033b-4009-987f-eb72a64ce8ef",
   "metadata": {},
   "outputs": [],
   "source": [
    "# plot settings\n",
    "plt.rc('font', family='serif') \n",
    "plt.rc('font', serif='Times New Roman') \n",
    "plt.rcParams.update({'font.size': 16})\n",
    "plt.rcParams['mathtext.fontset'] = 'stix'"
   ]
  },
  {
   "cell_type": "code",
   "execution_count": 3,
   "id": "9b18d8ec-834e-4c2b-a108-d68113472f53",
   "metadata": {},
   "outputs": [
    {
     "name": "stderr",
     "output_type": "stream",
     "text": [
      "Setting default log level to \"WARN\".\n",
      "To adjust logging level use sc.setLogLevel(newLevel). For SparkR, use setLogLevel(newLevel).\n",
      "24/09/24 11:00:46 WARN NativeCodeLoader: Unable to load native-hadoop library for your platform... using builtin-java classes where applicable\n",
      "24/09/24 11:00:47 WARN Utils: Service 'SparkUI' could not bind on port 4040. Attempting port 4041.\n"
     ]
    }
   ],
   "source": [
    "# PySpark packages\n",
    "from pyspark import SparkContext   \n",
    "from pyspark.sql import SparkSession\n",
    "\n",
    "import pyspark.sql.functions as F\n",
    "import pyspark.sql.types as T\n",
    "from pyspark import Row\n",
    "from pyspark.sql.window import Window as W\n",
    "\n",
    "#spark = SparkSession.builder \\\n",
    "#    .master(\"yarn\") \\\n",
    "#    .appName(\"spark-shell\") \\\n",
    "#    .config(\"spark.driver.maxResultSize\", \"32g\") \\\n",
    "#    .config(\"spark.driver.memory\", \"32g\") \\\n",
    "#    .config(\"spark.executor.memory\", \"6g\") \\\n",
    "#    .config(\"spark.executor.cores\", \"1\") \\\n",
    "#    .config(\"spark.executor.instances\", \"30\") \\\n",
    "#    .getOrCreate()\n",
    "\n",
    "#    .config(\"spark.executor.memory\", \"14g\") \\\n",
    "#    .config(\"spark.executor.cores\", \"2\") \\\n",
    "#    .config(\"spark.executor.instances\", \"60\") \\\n",
    "#    .config(\"spark.executor.memory\", \"6g\") \\\n",
    "#    .config(\"spark.jars.packages\", \"graphframes:graphframes:0.7.0-spark2.4-s_2.11\") \\\n",
    "#    .getOrCreate()\n",
    "\n",
    "spark = SparkSession.builder \\\n",
    "    .appName(\"MyApp\") \\\n",
    "    .master(\"spark://sohnic:7077\") \\\n",
    "    .config(\"spark.driver.memory\", \"100g\") \\\n",
    "    .getOrCreate()\n",
    "\n",
    "sc = spark.sparkContext\n",
    "sc.setCheckpointDir(\"hdfs://sohnic:54310/tmp/checkpoints\")\n",
    "\n",
    "spark.conf.set(\"spark.sql.debug.maxToStringFields\", 500)\n",
    "spark.conf.set(\"spark.sql.execution.arrow.pyspark.enabled\", \"true\")"
   ]
  },
  {
   "cell_type": "code",
   "execution_count": 4,
   "id": "d641535c-8b75-4751-ac40-244f2cc50906",
   "metadata": {},
   "outputs": [
    {
     "data": {
      "text/plain": [
       "[('spark.rdd.compress', 'True'),\n",
       " ('spark.driver.port', '38589'),\n",
       " ('spark.master', 'spark://sohnic:7077'),\n",
       " ('spark.app.id', 'app-20240924110047-0001'),\n",
       " ('spark.sql.warehouse.dir', 'file:/home/lshin/spark-warehouse'),\n",
       " ('spark.app.name', 'MyApp'),\n",
       " ('spark.executor.id', 'driver'),\n",
       " ('spark.submit.pyFiles', ''),\n",
       " ('spark.driver.host', 'sohnic'),\n",
       " ('spark.driver.memory', '100g')]"
      ]
     },
     "execution_count": 4,
     "metadata": {},
     "output_type": "execute_result"
    }
   ],
   "source": [
    "sc.getConf().getAll()[:10]"
   ]
  },
  {
   "cell_type": "code",
   "execution_count": 7,
   "id": "6c745a50-32ed-4cd6-ba7e-3243ef7275da",
   "metadata": {},
   "outputs": [
    {
     "name": "stdout",
     "output_type": "stream",
     "text": [
      "['snap099_sorted_x0_y0_z0.csv', 'snap099_sorted_x0_y0_z1.csv', 'snap099_sorted_x0_y0_z2.csv', 'snap099_sorted_x0_y0_z3.csv', 'snap099_sorted_x0_y0_z4.csv']\n"
     ]
    }
   ],
   "source": [
    "#h5dir = '/mnt/raid5/lshin/'\n",
    "#flist = !ls /mnt/raid5/lshin\n",
    "\n",
    "h5dir = '/home/lshin/TNG300/snap99/'\n",
    "flist = !ls /home/lshin/TNG300/snap99\n",
    "\n",
    "h5list = flist[1:]#[2:]\n",
    "print(h5list[:5])"
   ]
  },
  {
   "cell_type": "code",
   "execution_count": 10,
   "id": "042e8b9e-44c5-4fc6-bdd6-3912507f48bc",
   "metadata": {},
   "outputs": [
    {
     "name": "stdout",
     "output_type": "stream",
     "text": [
      "600\n"
     ]
    }
   ],
   "source": [
    "numh5list = len(h5list)\n",
    "print(numh5list)"
   ]
  },
  {
   "cell_type": "code",
   "execution_count": 11,
   "id": "37afdd06-a77f-47bb-b744-353bcafede8a",
   "metadata": {},
   "outputs": [
    {
     "data": {
      "text/plain": [
       "'/home/lshin/TNG300/snap99/snap099_sorted_x0_y0_z0.csv'"
      ]
     },
     "execution_count": 11,
     "metadata": {},
     "output_type": "execute_result"
    }
   ],
   "source": [
    "h5dir+h5list[0]"
   ]
  },
  {
   "cell_type": "code",
   "execution_count": 13,
   "id": "679ed2aa-bba8-478f-aa0d-06694e991596",
   "metadata": {},
   "outputs": [
    {
     "name": "stdout",
     "output_type": "stream",
     "text": [
      "CPU times: user 584 ms, sys: 50.4 ms, total: 635 ms\n",
      "Wall time: 633 ms\n"
     ]
    },
    {
     "data": {
      "text/html": [
       "<div>\n",
       "<style scoped>\n",
       "    .dataframe tbody tr th:only-of-type {\n",
       "        vertical-align: middle;\n",
       "    }\n",
       "\n",
       "    .dataframe tbody tr th {\n",
       "        vertical-align: top;\n",
       "    }\n",
       "\n",
       "    .dataframe thead th {\n",
       "        text-align: right;\n",
       "    }\n",
       "</style>\n",
       "<table border=\"1\" class=\"dataframe\">\n",
       "  <thead>\n",
       "    <tr style=\"text-align: right;\">\n",
       "      <th></th>\n",
       "      <th>px</th>\n",
       "      <th>py</th>\n",
       "      <th>pz</th>\n",
       "      <th>vx</th>\n",
       "      <th>vy</th>\n",
       "      <th>vz</th>\n",
       "      <th>mass</th>\n",
       "    </tr>\n",
       "  </thead>\n",
       "  <tbody>\n",
       "    <tr>\n",
       "      <th>0</th>\n",
       "      <td>15389.089310</td>\n",
       "      <td>954.616907</td>\n",
       "      <td>4401.295627</td>\n",
       "      <td>-119.992165</td>\n",
       "      <td>-28.731781</td>\n",
       "      <td>-266.06906</td>\n",
       "      <td>0.000588</td>\n",
       "    </tr>\n",
       "    <tr>\n",
       "      <th>1</th>\n",
       "      <td>15389.030575</td>\n",
       "      <td>954.669960</td>\n",
       "      <td>4401.003768</td>\n",
       "      <td>-101.488754</td>\n",
       "      <td>12.874359</td>\n",
       "      <td>-215.97354</td>\n",
       "      <td>0.000428</td>\n",
       "    </tr>\n",
       "    <tr>\n",
       "      <th>2</th>\n",
       "      <td>15389.011885</td>\n",
       "      <td>955.174487</td>\n",
       "      <td>4400.624592</td>\n",
       "      <td>-84.585670</td>\n",
       "      <td>-22.560968</td>\n",
       "      <td>-274.01807</td>\n",
       "      <td>0.000623</td>\n",
       "    </tr>\n",
       "    <tr>\n",
       "      <th>3</th>\n",
       "      <td>15389.240237</td>\n",
       "      <td>955.166115</td>\n",
       "      <td>4401.306553</td>\n",
       "      <td>-48.979668</td>\n",
       "      <td>-38.064640</td>\n",
       "      <td>-236.63635</td>\n",
       "      <td>0.000476</td>\n",
       "    </tr>\n",
       "    <tr>\n",
       "      <th>4</th>\n",
       "      <td>15389.082537</td>\n",
       "      <td>955.356952</td>\n",
       "      <td>4401.132427</td>\n",
       "      <td>-76.940155</td>\n",
       "      <td>-1.374161</td>\n",
       "      <td>-279.79910</td>\n",
       "      <td>0.000767</td>\n",
       "    </tr>\n",
       "  </tbody>\n",
       "</table>\n",
       "</div>"
      ],
      "text/plain": [
       "             px          py           pz          vx         vy         vz  \\\n",
       "0  15389.089310  954.616907  4401.295627 -119.992165 -28.731781 -266.06906   \n",
       "1  15389.030575  954.669960  4401.003768 -101.488754  12.874359 -215.97354   \n",
       "2  15389.011885  955.174487  4400.624592  -84.585670 -22.560968 -274.01807   \n",
       "3  15389.240237  955.166115  4401.306553  -48.979668 -38.064640 -236.63635   \n",
       "4  15389.082537  955.356952  4401.132427  -76.940155  -1.374161 -279.79910   \n",
       "\n",
       "       mass  \n",
       "0  0.000588  \n",
       "1  0.000428  \n",
       "2  0.000623  \n",
       "3  0.000476  \n",
       "4  0.000767  "
      ]
     },
     "execution_count": 13,
     "metadata": {},
     "output_type": "execute_result"
    }
   ],
   "source": [
    "%%time\n",
    "df = pd.read_csv(h5dir+h5list[0])\n",
    "df.head()\n",
    "#h5f.keys()"
   ]
  },
  {
   "cell_type": "markdown",
   "id": "9574b5e3-4c9b-4868-819f-2272f82468ed",
   "metadata": {},
   "source": [
    "# Save selected features as a parquet"
   ]
  },
  {
   "cell_type": "code",
   "execution_count": 34,
   "id": "3f9fafc9-c0a1-4156-a4e1-d4db3994397a",
   "metadata": {},
   "outputs": [],
   "source": [
    "schema = T.StructType([\\\n",
    "                       T.StructField('px',T.FloatType(), True),\\\n",
    "                       T.StructField('py',T.FloatType(), True),\\\n",
    "                       T.StructField('pz',T.FloatType(), True),\\\n",
    "                       T.StructField('vx',T.FloatType(), True),\\\n",
    "                       T.StructField('vy',T.FloatType(), True),\\\n",
    "                       T.StructField('vz',T.FloatType(), True),\\\n",
    "                       T.StructField('mass',T.FloatType(), True),\\\n",
    "                      ])"
   ]
  },
  {
   "cell_type": "code",
   "execution_count": 17,
   "id": "dc47164a-11ef-410e-8d49-a3e2188a027b",
   "metadata": {},
   "outputs": [],
   "source": [
    "px = df['px'].tolist()\n",
    "py = df['py'].tolist()\n",
    "pz = df['pz'].tolist()\n",
    "vx = df['vx'].tolist()\n",
    "vy = df['vy'].tolist()\n",
    "vz = df['vz'].tolist()\n",
    "mass = df['mass'].tolist()"
   ]
  },
  {
   "cell_type": "code",
   "execution_count": 18,
   "id": "47d1c9bd-a82c-4e69-b719-34efc577f7cf",
   "metadata": {},
   "outputs": [
    {
     "name": "stdout",
     "output_type": "stream",
     "text": [
      "CPU times: user 3.09 s, sys: 52.8 ms, total: 3.14 s\n",
      "Wall time: 4.56 s\n"
     ]
    }
   ],
   "source": [
    "%%time\n",
    "sparkdf = spark.createDataFrame(zip(px, py, pz, vx, vy, vz, mass),schema)"
   ]
  },
  {
   "cell_type": "code",
   "execution_count": 19,
   "id": "58d4eafd-6171-4f67-a0b1-228be45ddf1f",
   "metadata": {},
   "outputs": [
    {
     "name": "stderr",
     "output_type": "stream",
     "text": [
      "[Stage 0:>                                                          (0 + 1) / 1]\r"
     ]
    },
    {
     "name": "stdout",
     "output_type": "stream",
     "text": [
      "+---------+--------+---------+-----------+----------+----------+------------+\n",
      "|       px|      py|       pz|         vx|        vy|        vz|        mass|\n",
      "+---------+--------+---------+-----------+----------+----------+------------+\n",
      "|15389.089|954.6169|4401.2954|-119.992165|-28.731781|-266.06906| 5.879042E-4|\n",
      "| 15389.03|  954.67| 4401.004|-101.488754| 12.874359|-215.97354|4.2798722E-4|\n",
      "|15389.012|955.1745|4400.6245|  -84.58567|-22.560968|-274.01807| 6.225057E-4|\n",
      "+---------+--------+---------+-----------+----------+----------+------------+\n",
      "only showing top 3 rows\n",
      "\n",
      "CPU times: user 2.99 ms, sys: 3.45 ms, total: 6.44 ms\n",
      "Wall time: 1.55 s\n"
     ]
    },
    {
     "name": "stderr",
     "output_type": "stream",
     "text": [
      "                                                                                \r"
     ]
    }
   ],
   "source": [
    "%%time\n",
    "sparkdf.show(3,truncate=True)"
   ]
  },
  {
   "cell_type": "code",
   "execution_count": 20,
   "id": "cba8e91e-eeb5-491f-a65a-46d5ad365dc0",
   "metadata": {},
   "outputs": [
    {
     "name": "stderr",
     "output_type": "stream",
     "text": [
      "                                                                                \r"
     ]
    },
    {
     "data": {
      "text/plain": [
       "829890"
      ]
     },
     "execution_count": 20,
     "metadata": {},
     "output_type": "execute_result"
    }
   ],
   "source": [
    "sparkdf.count()"
   ]
  },
  {
   "cell_type": "code",
   "execution_count": 21,
   "id": "6a853390-d3dc-4956-ad17-c6fb927fb75f",
   "metadata": {},
   "outputs": [
    {
     "name": "stdout",
     "output_type": "stream",
     "text": [
      "root\n",
      " |-- px: float (nullable = true)\n",
      " |-- py: float (nullable = true)\n",
      " |-- pz: float (nullable = true)\n",
      " |-- vx: float (nullable = true)\n",
      " |-- vy: float (nullable = true)\n",
      " |-- vz: float (nullable = true)\n",
      " |-- mass: float (nullable = true)\n",
      "\n"
     ]
    }
   ],
   "source": [
    "sparkdf.printSchema()"
   ]
  },
  {
   "cell_type": "code",
   "execution_count": 22,
   "id": "e94662d3-8c16-408b-94d3-de8b1782aee8",
   "metadata": {},
   "outputs": [],
   "source": [
    "#outdir = 'hdfs://sohnic:54310/user/lshin/'\n",
    "outdir = 'hdfs://sohnic:54310/data/TNG300/snap99/'"
   ]
  },
  {
   "cell_type": "code",
   "execution_count": 27,
   "id": "9b462073-acca-4809-9d63-a86be588cc6e",
   "metadata": {},
   "outputs": [
    {
     "name": "stdout",
     "output_type": "stream",
     "text": [
      "hdfs://sohnic:54310/data/TNG300/snap99/snap099_sorted_x0_y0_z0.parquet.snappy\n"
     ]
    }
   ],
   "source": [
    "outname = outdir+h5list[0].replace(\"csv\",\"parquet.snappy\")\n",
    "print(outname)"
   ]
  },
  {
   "cell_type": "code",
   "execution_count": 28,
   "id": "94c3240c-9164-48e2-9f52-6ca0ffdf4c49",
   "metadata": {},
   "outputs": [
    {
     "name": "stderr",
     "output_type": "stream",
     "text": [
      "                                                                                \r"
     ]
    },
    {
     "name": "stdout",
     "output_type": "stream",
     "text": [
      "CPU times: user 13.7 ms, sys: 6.92 ms, total: 20.6 ms\n",
      "Wall time: 2.76 s\n"
     ]
    }
   ],
   "source": [
    "%%time\n",
    "sparkdf.write.option(\"compression\", \"snappy\") \\\n",
    "    .mode(\"overwrite\") \\\n",
    "    .save(outname)"
   ]
  },
  {
   "cell_type": "markdown",
   "id": "7a815904-e9c1-427f-b21f-33f49cfa3599",
   "metadata": {},
   "source": [
    "# Check up the parquet"
   ]
  },
  {
   "cell_type": "code",
   "execution_count": 45,
   "id": "e20a421e-e6eb-4812-9a15-f92253d53e96",
   "metadata": {},
   "outputs": [
    {
     "name": "stdout",
     "output_type": "stream",
     "text": [
      "CPU times: user 4.33 ms, sys: 8 µs, total: 4.34 ms\n",
      "Wall time: 124 ms\n"
     ]
    }
   ],
   "source": [
    "%%time\n",
    "# Read all parquets in the directory\n",
    "newsparkdf = spark.read.option(\"header\",\"true\").option(\"recursiveFileLookup\",\"true\").parquet(outname)"
   ]
  },
  {
   "cell_type": "code",
   "execution_count": 46,
   "id": "3e1000d4-c78b-43f8-bd2b-ad57fdfa2a17",
   "metadata": {},
   "outputs": [
    {
     "name": "stdout",
     "output_type": "stream",
     "text": [
      "root\n",
      " |-- px: float (nullable = true)\n",
      " |-- py: float (nullable = true)\n",
      " |-- pz: float (nullable = true)\n",
      " |-- vx: float (nullable = true)\n",
      " |-- vy: float (nullable = true)\n",
      " |-- vz: float (nullable = true)\n",
      " |-- mass: float (nullable = true)\n",
      "\n"
     ]
    }
   ],
   "source": [
    "newsparkdf.printSchema()"
   ]
  },
  {
   "cell_type": "code",
   "execution_count": 47,
   "id": "c110ee3e-6089-4429-a592-5960d36da600",
   "metadata": {},
   "outputs": [
    {
     "name": "stdout",
     "output_type": "stream",
     "text": [
      "1206812\n",
      "CPU times: user 1.99 ms, sys: 0 ns, total: 1.99 ms\n",
      "Wall time: 254 ms\n"
     ]
    }
   ],
   "source": [
    "%%time\n",
    "print(newsparkdf.count())"
   ]
  },
  {
   "cell_type": "code",
   "execution_count": 48,
   "id": "b24e2d60-9ed0-47b3-bf1a-3c2aa82358ef",
   "metadata": {},
   "outputs": [
    {
     "name": "stdout",
     "output_type": "stream",
     "text": [
      "CPU times: user 8.11 ms, sys: 3.91 ms, total: 12 ms\n",
      "Wall time: 353 ms\n"
     ]
    },
    {
     "data": {
      "text/html": [
       "<div>\n",
       "<style scoped>\n",
       "    .dataframe tbody tr th:only-of-type {\n",
       "        vertical-align: middle;\n",
       "    }\n",
       "\n",
       "    .dataframe tbody tr th {\n",
       "        vertical-align: top;\n",
       "    }\n",
       "\n",
       "    .dataframe thead th {\n",
       "        text-align: right;\n",
       "    }\n",
       "</style>\n",
       "<table border=\"1\" class=\"dataframe\">\n",
       "  <thead>\n",
       "    <tr style=\"text-align: right;\">\n",
       "      <th></th>\n",
       "      <th>0</th>\n",
       "      <th>1</th>\n",
       "    </tr>\n",
       "  </thead>\n",
       "  <tbody>\n",
       "    <tr>\n",
       "      <th>px</th>\n",
       "      <td>204866.796875</td>\n",
       "      <td>204869.765625</td>\n",
       "    </tr>\n",
       "    <tr>\n",
       "      <th>py</th>\n",
       "      <td>204772.015625</td>\n",
       "      <td>204746.625000</td>\n",
       "    </tr>\n",
       "    <tr>\n",
       "      <th>pz</th>\n",
       "      <td>197395.640625</td>\n",
       "      <td>197410.687500</td>\n",
       "    </tr>\n",
       "    <tr>\n",
       "      <th>vx</th>\n",
       "      <td>9.041390</td>\n",
       "      <td>254.601059</td>\n",
       "    </tr>\n",
       "    <tr>\n",
       "      <th>vy</th>\n",
       "      <td>-134.318375</td>\n",
       "      <td>-92.379158</td>\n",
       "    </tr>\n",
       "    <tr>\n",
       "      <th>vz</th>\n",
       "      <td>-66.458954</td>\n",
       "      <td>-7.044174</td>\n",
       "    </tr>\n",
       "    <tr>\n",
       "      <th>mass</th>\n",
       "      <td>0.000831</td>\n",
       "      <td>0.000476</td>\n",
       "    </tr>\n",
       "  </tbody>\n",
       "</table>\n",
       "</div>"
      ],
      "text/plain": [
       "                  0              1\n",
       "px    204866.796875  204869.765625\n",
       "py    204772.015625  204746.625000\n",
       "pz    197395.640625  197410.687500\n",
       "vx         9.041390     254.601059\n",
       "vy      -134.318375     -92.379158\n",
       "vz       -66.458954      -7.044174\n",
       "mass       0.000831       0.000476"
      ]
     },
     "execution_count": 48,
     "metadata": {},
     "output_type": "execute_result"
    }
   ],
   "source": [
    "%%time\n",
    "newsparkdf.limit(2).toPandas().transpose()"
   ]
  },
  {
   "cell_type": "code",
   "execution_count": 49,
   "id": "a854385d-35a0-45d8-bc7e-1fdb6b2d173d",
   "metadata": {},
   "outputs": [
    {
     "name": "stdout",
     "output_type": "stream",
     "text": [
      "+---------+---------+---------+\n",
      "|       px|       py|       pz|\n",
      "+---------+---------+---------+\n",
      "| 204866.8|204772.02|197395.64|\n",
      "|204869.77|204746.62|197410.69|\n",
      "|204835.03|204758.92|197448.14|\n",
      "+---------+---------+---------+\n",
      "only showing top 3 rows\n",
      "\n"
     ]
    }
   ],
   "source": [
    "newsparkdf.select(['px','py','pz']).show(3)"
   ]
  },
  {
   "cell_type": "code",
   "execution_count": 38,
   "id": "4347e676-5926-400a-95f4-82e951dec23a",
   "metadata": {},
   "outputs": [
    {
     "name": "stdout",
     "output_type": "stream",
     "text": [
      "CPU times: user 14 ms, sys: 0 ns, total: 14 ms\n",
      "Wall time: 700 ms\n"
     ]
    },
    {
     "data": {
      "text/html": [
       "<div>\n",
       "<style scoped>\n",
       "    .dataframe tbody tr th:only-of-type {\n",
       "        vertical-align: middle;\n",
       "    }\n",
       "\n",
       "    .dataframe tbody tr th {\n",
       "        vertical-align: top;\n",
       "    }\n",
       "\n",
       "    .dataframe thead th {\n",
       "        text-align: right;\n",
       "    }\n",
       "</style>\n",
       "<table border=\"1\" class=\"dataframe\">\n",
       "  <thead>\n",
       "    <tr style=\"text-align: right;\">\n",
       "      <th>summary</th>\n",
       "      <th>count</th>\n",
       "      <th>mean</th>\n",
       "      <th>stddev</th>\n",
       "      <th>min</th>\n",
       "      <th>max</th>\n",
       "    </tr>\n",
       "  </thead>\n",
       "  <tbody>\n",
       "    <tr>\n",
       "      <th>px</th>\n",
       "      <td>829890</td>\n",
       "      <td>7333.757431926775</td>\n",
       "      <td>6489.1686268262965</td>\n",
       "      <td>0.35823357</td>\n",
       "      <td>20499.875</td>\n",
       "    </tr>\n",
       "    <tr>\n",
       "      <th>py</th>\n",
       "      <td>829890</td>\n",
       "      <td>7210.045494197404</td>\n",
       "      <td>4223.622205323317</td>\n",
       "      <td>0.09408737</td>\n",
       "      <td>20467.947</td>\n",
       "    </tr>\n",
       "    <tr>\n",
       "      <th>pz</th>\n",
       "      <td>829890</td>\n",
       "      <td>24904.023832161158</td>\n",
       "      <td>9929.996396301181</td>\n",
       "      <td>5.216663</td>\n",
       "      <td>34166.35</td>\n",
       "    </tr>\n",
       "  </tbody>\n",
       "</table>\n",
       "</div>"
      ],
      "text/plain": [
       "summary   count                mean              stddev         min        max\n",
       "px       829890   7333.757431926775  6489.1686268262965  0.35823357  20499.875\n",
       "py       829890   7210.045494197404   4223.622205323317  0.09408737  20467.947\n",
       "pz       829890  24904.023832161158   9929.996396301181    5.216663   34166.35"
      ]
     },
     "execution_count": 38,
     "metadata": {},
     "output_type": "execute_result"
    }
   ],
   "source": [
    "%%time\n",
    "newsparkdf.select(['px','py','pz']).describe().toPandas().set_index('summary').transpose()"
   ]
  },
  {
   "cell_type": "markdown",
   "id": "a5adc999-40c2-4512-a4b8-cc2ba10578ab",
   "metadata": {},
   "source": [
    "# repartition"
   ]
  },
  {
   "cell_type": "code",
   "execution_count": 39,
   "id": "b272a485-dbc5-476a-a242-141427929da5",
   "metadata": {},
   "outputs": [
    {
     "name": "stdout",
     "output_type": "stream",
     "text": [
      "CPU times: user 4.39 ms, sys: 0 ns, total: 4.39 ms\n",
      "Wall time: 756 ms\n"
     ]
    },
    {
     "data": {
      "text/plain": [
       "829890"
      ]
     },
     "execution_count": 39,
     "metadata": {},
     "output_type": "execute_result"
    }
   ],
   "source": [
    "%%time\n",
    "newsparkdf.cache()\n",
    "newsparkdf.repartition(10,\"px\").count()"
   ]
  },
  {
   "cell_type": "markdown",
   "id": "a33b4cc7-3cd3-459a-a655-4da7d5d78def",
   "metadata": {},
   "source": [
    "# Converting all files"
   ]
  },
  {
   "cell_type": "code",
   "execution_count": 27,
   "id": "43ffcd55-98c5-4bb8-9be3-3dc68abcb3e5",
   "metadata": {},
   "outputs": [
    {
     "data": {
      "text/plain": [
       "'hdfs://sohnic:54310/data/TNG300/snap99/snap099_sorted.parquet.snappy'"
      ]
     },
     "execution_count": 27,
     "metadata": {},
     "output_type": "execute_result"
    }
   ],
   "source": [
    "outdir+h5list[0].split('_x0')[0]+ \".parquet.snappy\""
   ]
  },
  {
   "cell_type": "code",
   "execution_count": 1,
   "id": "8632c780-6921-4343-bb84-a50bf3984551",
   "metadata": {
    "scrolled": true
   },
   "outputs": [],
   "source": [
    "%%time\n",
    "sparkdf = spark.createDataFrame([], schema)\n",
    "\n",
    "for i in tqdm(range(len(h5list))):\n",
    "    df = pd.read_csv(h5dir + h5list[i])\n",
    "    tempdf = spark.createDataFrame(df[['px', 'py', 'pz', 'vx', 'vy', 'vz', 'mass']])\n",
    "    sparkdf = sparkdf.union(tempdf)  # Append to the existing DataFrame\n",
    "    #print(i)\n",
    "\n",
    "# Save to Parquet\n",
    "outname = outdir+'parquet/'+h5list[0].split('_x0')[0]+ \".parquet.snappy\"\n",
    "print(outname)\n",
    "sparkdf.write.option(\"compression\", \"snappy\").mode(\"overwrite\").save(outname)"
   ]
  },
  {
   "cell_type": "code",
   "execution_count": 51,
   "id": "02f43c1d-9121-47ad-ada6-e1073ca4a856",
   "metadata": {},
   "outputs": [
    {
     "name": "stderr",
     "output_type": "stream",
     "text": [
      "24/08/24 22:35:17 WARN SharedInMemoryCache: Evicting cached table partition metadata from memory due to size constraints (spark.sql.hive.filesourcePartitionFileCacheSize = 262144000 bytes). This may impact query planning performance.\n"
     ]
    },
    {
     "name": "stdout",
     "output_type": "stream",
     "text": [
      "CPU times: user 6.95 ms, sys: 267 µs, total: 7.21 ms\n",
      "Wall time: 6.3 s\n"
     ]
    }
   ],
   "source": [
    "%%time\n",
    "#check\n",
    "newsparkdf = spark.read.option(\"header\",\"true\").option(\"recursiveFileLookup\",\"true\").parquet(outname)"
   ]
  },
  {
   "cell_type": "code",
   "execution_count": 53,
   "id": "58bed654-f43e-4535-80ef-b399b8d17cc6",
   "metadata": {},
   "outputs": [
    {
     "name": "stderr",
     "output_type": "stream",
     "text": [
      "[Stage 19:===============================================>  (3456 + 185) / 3641]\r"
     ]
    },
    {
     "name": "stdout",
     "output_type": "stream",
     "text": [
      "711967480\n",
      "CPU times: user 28 ms, sys: 4 ms, total: 32 ms\n",
      "Wall time: 10.1 s\n"
     ]
    },
    {
     "name": "stderr",
     "output_type": "stream",
     "text": [
      "                                                                                \r"
     ]
    }
   ],
   "source": [
    "%%time\n",
    "print(newsparkdf.count())"
   ]
  },
  {
   "cell_type": "markdown",
   "id": "53109580-1fde-4d78-a93e-f603608464f8",
   "metadata": {},
   "source": [
    "# Saving subhalo catalog"
   ]
  },
  {
   "cell_type": "code",
   "execution_count": 4,
   "id": "1e5a2b18-f1db-4181-93da-404f3726246b",
   "metadata": {},
   "outputs": [
    {
     "name": "stdout",
     "output_type": "stream",
     "text": [
      "104290\n"
     ]
    },
    {
     "data": {
      "text/html": [
       "<div>\n",
       "<style scoped>\n",
       "    .dataframe tbody tr th:only-of-type {\n",
       "        vertical-align: middle;\n",
       "    }\n",
       "\n",
       "    .dataframe tbody tr th {\n",
       "        vertical-align: top;\n",
       "    }\n",
       "\n",
       "    .dataframe thead th {\n",
       "        text-align: right;\n",
       "    }\n",
       "</style>\n",
       "<table border=\"1\" class=\"dataframe\">\n",
       "  <thead>\n",
       "    <tr style=\"text-align: right;\">\n",
       "      <th></th>\n",
       "      <th>Unnamed: 0</th>\n",
       "      <th>ID</th>\n",
       "      <th>GrNr</th>\n",
       "      <th>Posx</th>\n",
       "      <th>Posy</th>\n",
       "      <th>Posz</th>\n",
       "      <th>CMx</th>\n",
       "      <th>CMy</th>\n",
       "      <th>CMz</th>\n",
       "      <th>Velx</th>\n",
       "      <th>...</th>\n",
       "      <th>vdisp_dm_pos_sph_rh_z_bi</th>\n",
       "      <th>vdisp_dm_pos_sph_rh_z_mweight</th>\n",
       "      <th>vdisp_dm_pos_sph_rh_z_lweight</th>\n",
       "      <th>vdisp_dm_pos_sph_rh_3d_std</th>\n",
       "      <th>vdisp_dm_pos_sph_rh_3d_bi</th>\n",
       "      <th>vdisp_dm_pos_sph_rh_3d_mweight</th>\n",
       "      <th>vdisp_dm_pos_sph_rh_3d_lweight</th>\n",
       "      <th>central</th>\n",
       "      <th>quiescent</th>\n",
       "      <th>edge</th>\n",
       "    </tr>\n",
       "  </thead>\n",
       "  <tbody>\n",
       "    <tr>\n",
       "      <th>0</th>\n",
       "      <td>1</td>\n",
       "      <td>394</td>\n",
       "      <td>0</td>\n",
       "      <td>41839.938</td>\n",
       "      <td>49050.410</td>\n",
       "      <td>146618.52</td>\n",
       "      <td>41841.720</td>\n",
       "      <td>49049.500</td>\n",
       "      <td>146618.42</td>\n",
       "      <td>505.39545</td>\n",
       "      <td>...</td>\n",
       "      <td>56.230135</td>\n",
       "      <td>0.0</td>\n",
       "      <td>0.0</td>\n",
       "      <td>93.595999</td>\n",
       "      <td>94.790011</td>\n",
       "      <td>0.0</td>\n",
       "      <td>0.0</td>\n",
       "      <td>0</td>\n",
       "      <td>1</td>\n",
       "      <td>1</td>\n",
       "    </tr>\n",
       "    <tr>\n",
       "      <th>1</th>\n",
       "      <td>2</td>\n",
       "      <td>403</td>\n",
       "      <td>0</td>\n",
       "      <td>45247.900</td>\n",
       "      <td>51453.363</td>\n",
       "      <td>145176.55</td>\n",
       "      <td>45247.434</td>\n",
       "      <td>51453.367</td>\n",
       "      <td>145176.25</td>\n",
       "      <td>484.58800</td>\n",
       "      <td>...</td>\n",
       "      <td>61.195377</td>\n",
       "      <td>0.0</td>\n",
       "      <td>0.0</td>\n",
       "      <td>108.910434</td>\n",
       "      <td>110.497556</td>\n",
       "      <td>0.0</td>\n",
       "      <td>0.0</td>\n",
       "      <td>0</td>\n",
       "      <td>1</td>\n",
       "      <td>1</td>\n",
       "    </tr>\n",
       "    <tr>\n",
       "      <th>2</th>\n",
       "      <td>3</td>\n",
       "      <td>421</td>\n",
       "      <td>0</td>\n",
       "      <td>43345.830</td>\n",
       "      <td>50114.844</td>\n",
       "      <td>148136.55</td>\n",
       "      <td>43344.582</td>\n",
       "      <td>50116.066</td>\n",
       "      <td>148136.56</td>\n",
       "      <td>2266.76460</td>\n",
       "      <td>...</td>\n",
       "      <td>57.704420</td>\n",
       "      <td>0.0</td>\n",
       "      <td>0.0</td>\n",
       "      <td>100.625152</td>\n",
       "      <td>102.887322</td>\n",
       "      <td>0.0</td>\n",
       "      <td>0.0</td>\n",
       "      <td>0</td>\n",
       "      <td>1</td>\n",
       "      <td>1</td>\n",
       "    </tr>\n",
       "    <tr>\n",
       "      <th>3</th>\n",
       "      <td>4</td>\n",
       "      <td>423</td>\n",
       "      <td>0</td>\n",
       "      <td>43848.816</td>\n",
       "      <td>51581.773</td>\n",
       "      <td>145344.84</td>\n",
       "      <td>43851.332</td>\n",
       "      <td>51581.540</td>\n",
       "      <td>145348.30</td>\n",
       "      <td>-1288.37480</td>\n",
       "      <td>...</td>\n",
       "      <td>49.692601</td>\n",
       "      <td>0.0</td>\n",
       "      <td>0.0</td>\n",
       "      <td>90.353464</td>\n",
       "      <td>92.019996</td>\n",
       "      <td>0.0</td>\n",
       "      <td>0.0</td>\n",
       "      <td>0</td>\n",
       "      <td>1</td>\n",
       "      <td>1</td>\n",
       "    </tr>\n",
       "    <tr>\n",
       "      <th>4</th>\n",
       "      <td>5</td>\n",
       "      <td>447</td>\n",
       "      <td>0</td>\n",
       "      <td>44503.348</td>\n",
       "      <td>47543.660</td>\n",
       "      <td>146977.92</td>\n",
       "      <td>44503.926</td>\n",
       "      <td>47543.100</td>\n",
       "      <td>146978.66</td>\n",
       "      <td>-157.55678</td>\n",
       "      <td>...</td>\n",
       "      <td>57.704970</td>\n",
       "      <td>0.0</td>\n",
       "      <td>0.0</td>\n",
       "      <td>102.185058</td>\n",
       "      <td>104.080819</td>\n",
       "      <td>0.0</td>\n",
       "      <td>0.0</td>\n",
       "      <td>0</td>\n",
       "      <td>1</td>\n",
       "      <td>1</td>\n",
       "    </tr>\n",
       "  </tbody>\n",
       "</table>\n",
       "<p>5 rows × 560 columns</p>\n",
       "</div>"
      ],
      "text/plain": [
       "   Unnamed: 0   ID  GrNr       Posx       Posy       Posz        CMx  \\\n",
       "0           1  394     0  41839.938  49050.410  146618.52  41841.720   \n",
       "1           2  403     0  45247.900  51453.363  145176.55  45247.434   \n",
       "2           3  421     0  43345.830  50114.844  148136.55  43344.582   \n",
       "3           4  423     0  43848.816  51581.773  145344.84  43851.332   \n",
       "4           5  447     0  44503.348  47543.660  146977.92  44503.926   \n",
       "\n",
       "         CMy        CMz        Velx  ...  vdisp_dm_pos_sph_rh_z_bi  \\\n",
       "0  49049.500  146618.42   505.39545  ...                 56.230135   \n",
       "1  51453.367  145176.25   484.58800  ...                 61.195377   \n",
       "2  50116.066  148136.56  2266.76460  ...                 57.704420   \n",
       "3  51581.540  145348.30 -1288.37480  ...                 49.692601   \n",
       "4  47543.100  146978.66  -157.55678  ...                 57.704970   \n",
       "\n",
       "   vdisp_dm_pos_sph_rh_z_mweight  vdisp_dm_pos_sph_rh_z_lweight  \\\n",
       "0                            0.0                            0.0   \n",
       "1                            0.0                            0.0   \n",
       "2                            0.0                            0.0   \n",
       "3                            0.0                            0.0   \n",
       "4                            0.0                            0.0   \n",
       "\n",
       "   vdisp_dm_pos_sph_rh_3d_std  vdisp_dm_pos_sph_rh_3d_bi  \\\n",
       "0                   93.595999                  94.790011   \n",
       "1                  108.910434                 110.497556   \n",
       "2                  100.625152                 102.887322   \n",
       "3                   90.353464                  92.019996   \n",
       "4                  102.185058                 104.080819   \n",
       "\n",
       "   vdisp_dm_pos_sph_rh_3d_mweight  vdisp_dm_pos_sph_rh_3d_lweight  central  \\\n",
       "0                             0.0                             0.0        0   \n",
       "1                             0.0                             0.0        0   \n",
       "2                             0.0                             0.0        0   \n",
       "3                             0.0                             0.0        0   \n",
       "4                             0.0                             0.0        0   \n",
       "\n",
       "   quiescent  edge  \n",
       "0          1     1  \n",
       "1          1     1  \n",
       "2          1     1  \n",
       "3          1     1  \n",
       "4          1     1  \n",
       "\n",
       "[5 rows x 560 columns]"
      ]
     },
     "execution_count": 4,
     "metadata": {},
     "output_type": "execute_result"
    }
   ],
   "source": [
    "#subhalo table (~few seconds)\n",
    "t300 = pd.read_csv('./TNG300_quiescent_subhalos.csv')\n",
    "print(len(t300))\n",
    "t300.head()"
   ]
  },
  {
   "cell_type": "code",
   "execution_count": 5,
   "id": "f5eacea6-157f-44cc-baaa-5702bd7428c7",
   "metadata": {},
   "outputs": [
    {
     "data": {
      "text/plain": [
       "<bound method NDFrame.keys of         Unnamed: 0     ID  GrNr        Posx        Posy       Posz  \\\n",
       "0                1    394     0   41839.938   49050.410  146618.52   \n",
       "1                2    403     0   45247.900   51453.363  145176.55   \n",
       "2                3    421     0   43345.830   50114.844  148136.55   \n",
       "3                4    423     0   43848.816   51581.773  145344.84   \n",
       "4                5    447     0   44503.348   47543.660  146977.92   \n",
       "...            ...    ...   ...         ...         ...        ...   \n",
       "104285           5  51512     9   59176.664    8106.176  100355.09   \n",
       "104286           6  55060    10   40907.820   98524.266  113316.53   \n",
       "104287           7  64929    13  204287.330  105547.060  191478.83   \n",
       "104288           8  68209    14  100361.830   23873.855  137372.61   \n",
       "104289           0      0     0   43718.812   48813.640  147594.95   \n",
       "\n",
       "               CMx         CMy         CMz        Velx  ...  \\\n",
       "0        41841.720   49049.500  146618.420   505.39545  ...   \n",
       "1        45247.434   51453.367  145176.250   484.58800  ...   \n",
       "2        43344.582   50116.066  148136.560  2266.76460  ...   \n",
       "3        43851.332   51581.540  145348.300 -1288.37480  ...   \n",
       "4        44503.926   47543.100  146978.660  -157.55678  ...   \n",
       "...            ...         ...         ...         ...  ...   \n",
       "104285   59224.370    8122.978  100351.350   154.05627  ...   \n",
       "104286   40868.430   98510.040  113355.445   138.67502  ...   \n",
       "104287  204321.810  105572.600  191487.480    74.56611  ...   \n",
       "104288  100336.180   23867.557  137419.900  -272.94580  ...   \n",
       "104289   44003.540   49335.137  147348.670   472.19620  ...   \n",
       "\n",
       "        vdisp_dm_pos_sph_rh_z_bi  vdisp_dm_pos_sph_rh_z_mweight  \\\n",
       "0                      56.230135                            0.0   \n",
       "1                      61.195377                            0.0   \n",
       "2                      57.704420                            0.0   \n",
       "3                      49.692601                            0.0   \n",
       "4                      57.704970                            0.0   \n",
       "...                          ...                            ...   \n",
       "104285                860.518116                            0.0   \n",
       "104286                929.143892                            0.0   \n",
       "104287                845.727292                            0.0   \n",
       "104288                852.565370                            0.0   \n",
       "104289               1171.545487                            0.0   \n",
       "\n",
       "        vdisp_dm_pos_sph_rh_z_lweight  vdisp_dm_pos_sph_rh_3d_std  \\\n",
       "0                                 0.0                   93.595999   \n",
       "1                                 0.0                  108.910434   \n",
       "2                                 0.0                  100.625152   \n",
       "3                                 0.0                   90.353464   \n",
       "4                                 0.0                  102.185058   \n",
       "...                               ...                         ...   \n",
       "104285                            0.0                 1525.014341   \n",
       "104286                            0.0                 1458.744167   \n",
       "104287                            0.0                 1427.806779   \n",
       "104288                            0.0                 1368.720306   \n",
       "104289                            0.0                 1986.357786   \n",
       "\n",
       "        vdisp_dm_pos_sph_rh_3d_bi  vdisp_dm_pos_sph_rh_3d_mweight  \\\n",
       "0                       94.790011                             0.0   \n",
       "1                      110.497556                             0.0   \n",
       "2                      102.887322                             0.0   \n",
       "3                       92.019996                             0.0   \n",
       "4                      104.080819                             0.0   \n",
       "...                           ...                             ...   \n",
       "104285                1541.668483                             0.0   \n",
       "104286                1471.318513                             0.0   \n",
       "104287                1438.344211                             0.0   \n",
       "104288                1389.028677                             0.0   \n",
       "104289                2012.348980                             0.0   \n",
       "\n",
       "        vdisp_dm_pos_sph_rh_3d_lweight  central  quiescent  edge  \n",
       "0                                  0.0        0          1     1  \n",
       "1                                  0.0        0          1     1  \n",
       "2                                  0.0        0          1     1  \n",
       "3                                  0.0        0          1     1  \n",
       "4                                  0.0        0          1     1  \n",
       "...                                ...      ...        ...   ...  \n",
       "104285                             0.0        1          1     0  \n",
       "104286                             0.0        1          1     1  \n",
       "104287                             0.0        1          1     0  \n",
       "104288                             0.0        1          1     1  \n",
       "104289                             0.0        1          1     1  \n",
       "\n",
       "[104290 rows x 560 columns]>"
      ]
     },
     "execution_count": 5,
     "metadata": {},
     "output_type": "execute_result"
    }
   ],
   "source": [
    "t300.keys"
   ]
  },
  {
   "cell_type": "code",
   "execution_count": 10,
   "id": "026e336b-1594-4eab-901a-2b131310c9d6",
   "metadata": {},
   "outputs": [],
   "source": [
    "schema_sub = T.StructType([\\\n",
    "                       T.StructField('px',T.FloatType(), True),\\\n",
    "                       T.StructField('py',T.FloatType(), True),\\\n",
    "                       T.StructField('pz',T.FloatType(), True),\\\n",
    "                       T.StructField('vx',T.FloatType(), True),\\\n",
    "                       T.StructField('vy',T.FloatType(), True),\\\n",
    "                       T.StructField('vz',T.FloatType(), True),\\\n",
    "                       T.StructField('mass',T.FloatType(), True),\\\n",
    "                       T.StructField('sub_id',T.IntegerType(), True)\n",
    "                      ])\n",
    "\n",
    "px = t300['Posx'].tolist()\n",
    "py = t300['Posy'].tolist()\n",
    "pz = t300['Posz'].tolist()\n",
    "vx = t300['Velx'].tolist()\n",
    "vy = t300['Vely'].tolist()\n",
    "vz = t300['Velz'].tolist()\n",
    "mass = t300['Mass_star'].tolist()\n",
    "sub_id = range(len(t300['Posx']))"
   ]
  },
  {
   "cell_type": "code",
   "execution_count": 11,
   "id": "036d04b6-f159-48ab-a1cc-75d11986675a",
   "metadata": {},
   "outputs": [
    {
     "name": "stderr",
     "output_type": "stream",
     "text": [
      "                                                                                \r"
     ]
    },
    {
     "name": "stdout",
     "output_type": "stream",
     "text": [
      "CPU times: user 444 ms, sys: 19.3 ms, total: 463 ms\n",
      "Wall time: 5.43 s\n"
     ]
    }
   ],
   "source": [
    "%%time\n",
    "subdf = spark.createDataFrame(zip(px, py, pz, vx, vy, vz, mass,sub_id),schema_sub)\n",
    "subname = 'hdfs://sohnic:54310/data/TNG300/snap99/parquet/subhalo_trim.parquet.snappy'\n",
    "subdf.write.option(\"compression\", \"snappy\").mode(\"overwrite\").save(subname)"
   ]
  }
 ],
 "metadata": {
  "kernelspec": {
   "display_name": "Python 3 (ipykernel)",
   "language": "python",
   "name": "python3"
  },
  "language_info": {
   "codemirror_mode": {
    "name": "ipython",
    "version": 3
   },
   "file_extension": ".py",
   "mimetype": "text/x-python",
   "name": "python",
   "nbconvert_exporter": "python",
   "pygments_lexer": "ipython3",
   "version": "3.10.12"
  }
 },
 "nbformat": 4,
 "nbformat_minor": 5
}
