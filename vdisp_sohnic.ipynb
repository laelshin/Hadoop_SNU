{
 "cells": [
  {
   "cell_type": "code",
   "execution_count": 1,
   "id": "317a204a-5931-4bec-8bf6-21af394be50d",
   "metadata": {},
   "outputs": [],
   "source": [
    "import numpy as np\n",
    "import pandas as pd\n",
    "import glob\n",
    "import sys\n",
    "import h5py\n",
    "#from netCDF4 import Dataset\n",
    "from datetime import datetime\n",
    "from tqdm.notebook import tqdm\n",
    "import matplotlib.pyplot as plt\n",
    "from scipy.spatial import cKDTree\n",
    "\n",
    "import pyarrow as pa\n",
    "import pyarrow.parquet as pqw\n",
    "\n",
    "from functools import reduce\n",
    "import operator\n",
    "import gc"
   ]
  },
  {
   "cell_type": "code",
   "execution_count": 2,
   "id": "edb2c828-32a0-4e20-bfeb-d2caa6111ba1",
   "metadata": {},
   "outputs": [],
   "source": [
    "# plot settings\n",
    "plt.rc('font', family='serif') \n",
    "plt.rc('font', serif='Times New Roman') \n",
    "plt.rcParams.update({'font.size': 16})\n",
    "plt.rcParams['mathtext.fontset'] = 'stix'"
   ]
  },
  {
   "cell_type": "code",
   "execution_count": 3,
   "id": "3a3fd752-f3dc-470f-a573-b838d6761987",
   "metadata": {},
   "outputs": [
    {
     "name": "stderr",
     "output_type": "stream",
     "text": [
      "Setting default log level to \"WARN\".\n",
      "To adjust logging level use sc.setLogLevel(newLevel). For SparkR, use setLogLevel(newLevel).\n",
      "24/08/27 11:06:19 WARN NativeCodeLoader: Unable to load native-hadoop library for your platform... using builtin-java classes where applicable\n"
     ]
    }
   ],
   "source": [
    "from pyspark import SparkContext   \n",
    "from pyspark.sql import SparkSession\n",
    "\n",
    "import pyspark.sql.functions as F\n",
    "import pyspark.sql.types as T\n",
    "from pyspark import Row\n",
    "from pyspark.sql.window import Window as W\n",
    "\n",
    "spark = SparkSession.builder \\\n",
    "    .appName(\"MyApp\") \\\n",
    "    .master(\"spark://sohnic:7077\") \\\n",
    "    .config(\"spark.driver.memory\", \"100g\") \\\n",
    "    .getOrCreate()\n",
    "\n",
    "sc = spark.sparkContext\n",
    "sc.setCheckpointDir(\"hdfs://sohnic:54310/tmp/checkpoints\")\n",
    "\n",
    "spark.conf.set(\"spark.sql.debug.maxToStringFields\", 500)\n",
    "spark.conf.set(\"spark.sql.execution.arrow.pyspark.enabled\", \"true\")"
   ]
  },
  {
   "cell_type": "markdown",
   "id": "66d40ccb-87e4-4b2a-8e16-6c3e83be1d40",
   "metadata": {},
   "source": [
    "# 1. Reading the particle data"
   ]
  },
  {
   "cell_type": "code",
   "execution_count": 15,
   "id": "c376c867-2f23-4e62-a03f-4b10692aed0e",
   "metadata": {},
   "outputs": [
    {
     "name": "stderr",
     "output_type": "stream",
     "text": [
      "24/08/27 11:27:14 WARN SharedInMemoryCache: Evicting cached table partition metadata from memory due to size constraints (spark.sql.hive.filesourcePartitionFileCacheSize = 262144000 bytes). This may impact query planning performance.\n"
     ]
    },
    {
     "name": "stdout",
     "output_type": "stream",
     "text": [
      "CPU times: user 5.18 ms, sys: 1.63 ms, total: 6.81 ms\n",
      "Wall time: 6.64 s\n"
     ]
    }
   ],
   "source": [
    "%%time\n",
    "\n",
    "outname = 'hdfs://sohnic:54310/data/TNG300/snap99/parquet/snap099_sorted.parquet.snappy'\n",
    "rawdf = spark.read.option(\"header\",\"true\").option(\"recursiveFileLookup\",\"true\").parquet(outname)"
   ]
  },
  {
   "cell_type": "code",
   "execution_count": 16,
   "id": "a1d4f912-8450-4723-980c-fc872819ff0e",
   "metadata": {},
   "outputs": [
    {
     "name": "stdout",
     "output_type": "stream",
     "text": [
      "root\n",
      " |-- px: double (nullable = true)\n",
      " |-- py: double (nullable = true)\n",
      " |-- pz: double (nullable = true)\n",
      " |-- vx: double (nullable = true)\n",
      " |-- vy: double (nullable = true)\n",
      " |-- vz: double (nullable = true)\n",
      " |-- mass: double (nullable = true)\n",
      "\n"
     ]
    }
   ],
   "source": [
    "rawdf.printSchema()"
   ]
  },
  {
   "cell_type": "code",
   "execution_count": 17,
   "id": "b4245eeb-f7e4-45ad-8e17-5a5491a1e67d",
   "metadata": {},
   "outputs": [
    {
     "name": "stderr",
     "output_type": "stream",
     "text": [
      "[Stage 20:========================================>         (2932 + 192) / 3641]\r"
     ]
    },
    {
     "name": "stdout",
     "output_type": "stream",
     "text": [
      "CPU times: user 16.3 ms, sys: 0 ns, total: 16.3 ms\n",
      "Wall time: 2.56 s\n"
     ]
    },
    {
     "name": "stderr",
     "output_type": "stream",
     "text": [
      "                                                                                \r"
     ]
    },
    {
     "data": {
      "text/html": [
       "<div>\n",
       "<style scoped>\n",
       "    .dataframe tbody tr th:only-of-type {\n",
       "        vertical-align: middle;\n",
       "    }\n",
       "\n",
       "    .dataframe tbody tr th {\n",
       "        vertical-align: top;\n",
       "    }\n",
       "\n",
       "    .dataframe thead th {\n",
       "        text-align: right;\n",
       "    }\n",
       "</style>\n",
       "<table border=\"1\" class=\"dataframe\">\n",
       "  <thead>\n",
       "    <tr style=\"text-align: right;\">\n",
       "      <th></th>\n",
       "      <th>0</th>\n",
       "      <th>1</th>\n",
       "      <th>2</th>\n",
       "      <th>3</th>\n",
       "    </tr>\n",
       "  </thead>\n",
       "  <tbody>\n",
       "    <tr>\n",
       "      <th>px</th>\n",
       "      <td>70037.914989</td>\n",
       "      <td>70050.889402</td>\n",
       "      <td>70052.049477</td>\n",
       "      <td>70044.449632</td>\n",
       "    </tr>\n",
       "    <tr>\n",
       "      <th>py</th>\n",
       "      <td>122711.870105</td>\n",
       "      <td>122702.683213</td>\n",
       "      <td>122687.959709</td>\n",
       "      <td>122716.085783</td>\n",
       "    </tr>\n",
       "    <tr>\n",
       "      <th>pz</th>\n",
       "      <td>78395.454087</td>\n",
       "      <td>78380.293789</td>\n",
       "      <td>78388.525112</td>\n",
       "      <td>78394.403400</td>\n",
       "    </tr>\n",
       "    <tr>\n",
       "      <th>vx</th>\n",
       "      <td>-115.070280</td>\n",
       "      <td>-295.583070</td>\n",
       "      <td>-357.155430</td>\n",
       "      <td>-302.519170</td>\n",
       "    </tr>\n",
       "    <tr>\n",
       "      <th>vy</th>\n",
       "      <td>-183.363080</td>\n",
       "      <td>-240.301150</td>\n",
       "      <td>-156.076430</td>\n",
       "      <td>-30.818964</td>\n",
       "    </tr>\n",
       "    <tr>\n",
       "      <th>vz</th>\n",
       "      <td>164.855500</td>\n",
       "      <td>57.164620</td>\n",
       "      <td>215.157420</td>\n",
       "      <td>586.600300</td>\n",
       "    </tr>\n",
       "    <tr>\n",
       "      <th>mass</th>\n",
       "      <td>0.000487</td>\n",
       "      <td>0.000680</td>\n",
       "      <td>0.000389</td>\n",
       "      <td>0.000632</td>\n",
       "    </tr>\n",
       "  </tbody>\n",
       "</table>\n",
       "</div>"
      ],
      "text/plain": [
       "                  0              1              2              3\n",
       "px     70037.914989   70050.889402   70052.049477   70044.449632\n",
       "py    122711.870105  122702.683213  122687.959709  122716.085783\n",
       "pz     78395.454087   78380.293789   78388.525112   78394.403400\n",
       "vx      -115.070280    -295.583070    -357.155430    -302.519170\n",
       "vy      -183.363080    -240.301150    -156.076430     -30.818964\n",
       "vz       164.855500      57.164620     215.157420     586.600300\n",
       "mass       0.000487       0.000680       0.000389       0.000632"
      ]
     },
     "execution_count": 17,
     "metadata": {},
     "output_type": "execute_result"
    }
   ],
   "source": [
    "%%time\n",
    "rawdf.limit(4).toPandas().T"
   ]
  },
  {
   "cell_type": "code",
   "execution_count": 18,
   "id": "b60660e9-fd98-4775-8efb-ef880b9b4ff2",
   "metadata": {},
   "outputs": [
    {
     "name": "stderr",
     "output_type": "stream",
     "text": [
      "[Stage 22:===================================================>(3640 + 1) / 3641]\r"
     ]
    },
    {
     "name": "stdout",
     "output_type": "stream",
     "text": [
      "+-------+------------------+-----------------+------------------+------------------+------------------+-------------------+--------------------+\n",
      "|summary|                px|               py|                pz|                vx|                vy|                 vz|                mass|\n",
      "+-------+------------------+-----------------+------------------+------------------+------------------+-------------------+--------------------+\n",
      "|  count|         711967480|        711967480|         711967480|         711967480|         711967480|          711967480|           711967480|\n",
      "|   mean|100688.61828005516|99059.36895091087|105857.77590178441|1.2704478306706155|1.0880226031171296|-0.3091079896978181|5.280344892323577E-4|\n",
      "| stddev| 58078.24131182927|57695.00416267924|59449.995547022605|376.97520515072176|390.00232101241176| 379.19046823402147|1.424400845340058...|\n",
      "|    min| 1.136348000727E-4| 8.96728655789E-4|   6.5989815512E-4|        -4127.3325|        -3954.2883|         -4355.7554|         8.154293E-6|\n",
      "|    max| 204999.9994621104|204999.9977547349| 204999.9998752371|         4329.7563|          4393.859|           5640.448|        0.0014874495|\n",
      "+-------+------------------+-----------------+------------------+------------------+------------------+-------------------+--------------------+\n",
      "\n",
      "CPU times: user 170 ms, sys: 28.1 ms, total: 198 ms\n",
      "Wall time: 44.8 s\n"
     ]
    },
    {
     "name": "stderr",
     "output_type": "stream",
     "text": [
      "                                                                                \r"
     ]
    }
   ],
   "source": [
    "%%time\n",
    "rawdf.describe().show() "
   ]
  },
  {
   "cell_type": "code",
   "execution_count": 19,
   "id": "24777280-a039-4cc0-95a5-021c951beef0",
   "metadata": {},
   "outputs": [
    {
     "name": "stderr",
     "output_type": "stream",
     "text": [
      "[Stage 25:===============================================>  (3493 + 148) / 3641]\r"
     ]
    },
    {
     "name": "stdout",
     "output_type": "stream",
     "text": [
      "CPU times: user 196 ms, sys: 17.4 ms, total: 213 ms\n",
      "Wall time: 44.5 s\n"
     ]
    },
    {
     "name": "stderr",
     "output_type": "stream",
     "text": [
      "                                                                                \r"
     ]
    },
    {
     "data": {
      "text/html": [
       "<div>\n",
       "<style scoped>\n",
       "    .dataframe tbody tr th:only-of-type {\n",
       "        vertical-align: middle;\n",
       "    }\n",
       "\n",
       "    .dataframe tbody tr th {\n",
       "        vertical-align: top;\n",
       "    }\n",
       "\n",
       "    .dataframe thead th {\n",
       "        text-align: right;\n",
       "    }\n",
       "</style>\n",
       "<table border=\"1\" class=\"dataframe\">\n",
       "  <thead>\n",
       "    <tr style=\"text-align: right;\">\n",
       "      <th></th>\n",
       "      <th>0</th>\n",
       "      <th>1</th>\n",
       "      <th>2</th>\n",
       "      <th>3</th>\n",
       "      <th>4</th>\n",
       "    </tr>\n",
       "  </thead>\n",
       "  <tbody>\n",
       "    <tr>\n",
       "      <th>summary</th>\n",
       "      <td>count</td>\n",
       "      <td>mean</td>\n",
       "      <td>stddev</td>\n",
       "      <td>min</td>\n",
       "      <td>max</td>\n",
       "    </tr>\n",
       "    <tr>\n",
       "      <th>px</th>\n",
       "      <td>711967480</td>\n",
       "      <td>100688.61828005477</td>\n",
       "      <td>58078.24131182935</td>\n",
       "      <td>1.136348000727E-4</td>\n",
       "      <td>204999.9994621104</td>\n",
       "    </tr>\n",
       "    <tr>\n",
       "      <th>py</th>\n",
       "      <td>711967480</td>\n",
       "      <td>99059.3689509106</td>\n",
       "      <td>57695.00416267911</td>\n",
       "      <td>8.96728655789E-4</td>\n",
       "      <td>204999.9977547349</td>\n",
       "    </tr>\n",
       "    <tr>\n",
       "      <th>pz</th>\n",
       "      <td>711967480</td>\n",
       "      <td>105857.77590178442</td>\n",
       "      <td>59449.99554702274</td>\n",
       "      <td>6.5989815512E-4</td>\n",
       "      <td>204999.9998752371</td>\n",
       "    </tr>\n",
       "    <tr>\n",
       "      <th>vx</th>\n",
       "      <td>711967480</td>\n",
       "      <td>1.2704478306706162</td>\n",
       "      <td>376.9752051507215</td>\n",
       "      <td>-4127.3325</td>\n",
       "      <td>4329.7563</td>\n",
       "    </tr>\n",
       "    <tr>\n",
       "      <th>vy</th>\n",
       "      <td>711967480</td>\n",
       "      <td>1.088022603117128</td>\n",
       "      <td>390.0023210124113</td>\n",
       "      <td>-3954.2883</td>\n",
       "      <td>4393.859</td>\n",
       "    </tr>\n",
       "    <tr>\n",
       "      <th>vz</th>\n",
       "      <td>711967480</td>\n",
       "      <td>-0.30910798969781983</td>\n",
       "      <td>379.19046823402124</td>\n",
       "      <td>-4355.7554</td>\n",
       "      <td>5640.448</td>\n",
       "    </tr>\n",
       "    <tr>\n",
       "      <th>mass</th>\n",
       "      <td>711967480</td>\n",
       "      <td>5.280344892323588E-4</td>\n",
       "      <td>1.4244008453400572E-4</td>\n",
       "      <td>8.154293E-6</td>\n",
       "      <td>0.0014874495</td>\n",
       "    </tr>\n",
       "  </tbody>\n",
       "</table>\n",
       "</div>"
      ],
      "text/plain": [
       "                 0                     1                      2  \\\n",
       "summary      count                  mean                 stddev   \n",
       "px       711967480    100688.61828005477      58078.24131182935   \n",
       "py       711967480      99059.3689509106      57695.00416267911   \n",
       "pz       711967480    105857.77590178442      59449.99554702274   \n",
       "vx       711967480    1.2704478306706162      376.9752051507215   \n",
       "vy       711967480     1.088022603117128      390.0023210124113   \n",
       "vz       711967480  -0.30910798969781983     379.19046823402124   \n",
       "mass     711967480  5.280344892323588E-4  1.4244008453400572E-4   \n",
       "\n",
       "                         3                  4  \n",
       "summary                min                max  \n",
       "px       1.136348000727E-4  204999.9994621104  \n",
       "py        8.96728655789E-4  204999.9977547349  \n",
       "pz         6.5989815512E-4  204999.9998752371  \n",
       "vx              -4127.3325          4329.7563  \n",
       "vy              -3954.2883           4393.859  \n",
       "vz              -4355.7554           5640.448  \n",
       "mass           8.154293E-6       0.0014874495  "
      ]
     },
     "execution_count": 19,
     "metadata": {},
     "output_type": "execute_result"
    }
   ],
   "source": [
    "%%time\n",
    "rawdf.describe().toPandas().T "
   ]
  },
  {
   "cell_type": "markdown",
   "id": "4ee024b0-bd55-4cd3-8ad1-31633a584122",
   "metadata": {},
   "source": [
    "# 2. Calculating stellar velocity dispersion"
   ]
  },
  {
   "cell_type": "markdown",
   "id": "eed89ceb-dc8e-4aa6-9fa1-2e41beb76580",
   "metadata": {},
   "source": [
    "We measure the stellar velocity dispersion of ~10$^6$ subhalos. We first select stellar particles within spheres with a certain radius. We then calculate the mass-weighted stellar velocity dispersion based on the 3D velocity of selected stellar particles. \n",
    "\n",
    "### $M = \\Sigma m_i $\n",
    "### $\\overline{v_x} = \\frac{\\Sigma m_i v_{i,x}}{M}$, $\\, \\overline{v_y} = \\frac{\\Sigma m_i v_{i,y}}{M}$, $\\, \\overline{v_z} = \\frac{\\Sigma m_i v_{i,z}}{M}$ \n",
    "### $\\sigma_x^2 = \\frac{\\Sigma m_i (v_{i,x} - \\overline{v_{x}})^2}{M}$, $\\, \\sigma_y^2 = \\frac{\\Sigma m_i (v_{i,y} - \\overline{v_{y}})^2}{M}$, $\\, \\sigma_z^2 = \\frac{\\Sigma m_i (v_{i,z} - \\overline{v_{z}})^2}{M}$\n",
    "### $\\therefore \\sigma_{3D} = \\sqrt{\\sigma_x^2 + \\sigma_y^2 + \\sigma_z^2}$\n",
    "We repeat the above calculation for six different radii (3, 5, 10, 20, 30, and 50 kpc)."
   ]
  },
  {
   "cell_type": "code",
   "execution_count": 22,
   "id": "34b84812-aea7-4907-9fba-e49f938f4565",
   "metadata": {},
   "outputs": [
    {
     "name": "stdout",
     "output_type": "stream",
     "text": [
      "104290\n"
     ]
    },
    {
     "data": {
      "text/html": [
       "<div>\n",
       "<style scoped>\n",
       "    .dataframe tbody tr th:only-of-type {\n",
       "        vertical-align: middle;\n",
       "    }\n",
       "\n",
       "    .dataframe tbody tr th {\n",
       "        vertical-align: top;\n",
       "    }\n",
       "\n",
       "    .dataframe thead th {\n",
       "        text-align: right;\n",
       "    }\n",
       "</style>\n",
       "<table border=\"1\" class=\"dataframe\">\n",
       "  <thead>\n",
       "    <tr style=\"text-align: right;\">\n",
       "      <th></th>\n",
       "      <th>Unnamed: 0</th>\n",
       "      <th>ID</th>\n",
       "      <th>GrNr</th>\n",
       "      <th>Posx</th>\n",
       "      <th>Posy</th>\n",
       "      <th>Posz</th>\n",
       "      <th>CMx</th>\n",
       "      <th>CMy</th>\n",
       "      <th>CMz</th>\n",
       "      <th>Velx</th>\n",
       "      <th>...</th>\n",
       "      <th>vdisp_dm_pos_sph_rh_z_bi</th>\n",
       "      <th>vdisp_dm_pos_sph_rh_z_mweight</th>\n",
       "      <th>vdisp_dm_pos_sph_rh_z_lweight</th>\n",
       "      <th>vdisp_dm_pos_sph_rh_3d_std</th>\n",
       "      <th>vdisp_dm_pos_sph_rh_3d_bi</th>\n",
       "      <th>vdisp_dm_pos_sph_rh_3d_mweight</th>\n",
       "      <th>vdisp_dm_pos_sph_rh_3d_lweight</th>\n",
       "      <th>central</th>\n",
       "      <th>quiescent</th>\n",
       "      <th>edge</th>\n",
       "    </tr>\n",
       "  </thead>\n",
       "  <tbody>\n",
       "    <tr>\n",
       "      <th>0</th>\n",
       "      <td>1</td>\n",
       "      <td>394</td>\n",
       "      <td>0</td>\n",
       "      <td>41839.938</td>\n",
       "      <td>49050.410</td>\n",
       "      <td>146618.52</td>\n",
       "      <td>41841.720</td>\n",
       "      <td>49049.500</td>\n",
       "      <td>146618.42</td>\n",
       "      <td>505.39545</td>\n",
       "      <td>...</td>\n",
       "      <td>56.230135</td>\n",
       "      <td>0.0</td>\n",
       "      <td>0.0</td>\n",
       "      <td>93.595999</td>\n",
       "      <td>94.790011</td>\n",
       "      <td>0.0</td>\n",
       "      <td>0.0</td>\n",
       "      <td>0</td>\n",
       "      <td>1</td>\n",
       "      <td>1</td>\n",
       "    </tr>\n",
       "    <tr>\n",
       "      <th>1</th>\n",
       "      <td>2</td>\n",
       "      <td>403</td>\n",
       "      <td>0</td>\n",
       "      <td>45247.900</td>\n",
       "      <td>51453.363</td>\n",
       "      <td>145176.55</td>\n",
       "      <td>45247.434</td>\n",
       "      <td>51453.367</td>\n",
       "      <td>145176.25</td>\n",
       "      <td>484.58800</td>\n",
       "      <td>...</td>\n",
       "      <td>61.195377</td>\n",
       "      <td>0.0</td>\n",
       "      <td>0.0</td>\n",
       "      <td>108.910434</td>\n",
       "      <td>110.497556</td>\n",
       "      <td>0.0</td>\n",
       "      <td>0.0</td>\n",
       "      <td>0</td>\n",
       "      <td>1</td>\n",
       "      <td>1</td>\n",
       "    </tr>\n",
       "    <tr>\n",
       "      <th>2</th>\n",
       "      <td>3</td>\n",
       "      <td>421</td>\n",
       "      <td>0</td>\n",
       "      <td>43345.830</td>\n",
       "      <td>50114.844</td>\n",
       "      <td>148136.55</td>\n",
       "      <td>43344.582</td>\n",
       "      <td>50116.066</td>\n",
       "      <td>148136.56</td>\n",
       "      <td>2266.76460</td>\n",
       "      <td>...</td>\n",
       "      <td>57.704420</td>\n",
       "      <td>0.0</td>\n",
       "      <td>0.0</td>\n",
       "      <td>100.625152</td>\n",
       "      <td>102.887322</td>\n",
       "      <td>0.0</td>\n",
       "      <td>0.0</td>\n",
       "      <td>0</td>\n",
       "      <td>1</td>\n",
       "      <td>1</td>\n",
       "    </tr>\n",
       "    <tr>\n",
       "      <th>3</th>\n",
       "      <td>4</td>\n",
       "      <td>423</td>\n",
       "      <td>0</td>\n",
       "      <td>43848.816</td>\n",
       "      <td>51581.773</td>\n",
       "      <td>145344.84</td>\n",
       "      <td>43851.332</td>\n",
       "      <td>51581.540</td>\n",
       "      <td>145348.30</td>\n",
       "      <td>-1288.37480</td>\n",
       "      <td>...</td>\n",
       "      <td>49.692601</td>\n",
       "      <td>0.0</td>\n",
       "      <td>0.0</td>\n",
       "      <td>90.353464</td>\n",
       "      <td>92.019996</td>\n",
       "      <td>0.0</td>\n",
       "      <td>0.0</td>\n",
       "      <td>0</td>\n",
       "      <td>1</td>\n",
       "      <td>1</td>\n",
       "    </tr>\n",
       "    <tr>\n",
       "      <th>4</th>\n",
       "      <td>5</td>\n",
       "      <td>447</td>\n",
       "      <td>0</td>\n",
       "      <td>44503.348</td>\n",
       "      <td>47543.660</td>\n",
       "      <td>146977.92</td>\n",
       "      <td>44503.926</td>\n",
       "      <td>47543.100</td>\n",
       "      <td>146978.66</td>\n",
       "      <td>-157.55678</td>\n",
       "      <td>...</td>\n",
       "      <td>57.704970</td>\n",
       "      <td>0.0</td>\n",
       "      <td>0.0</td>\n",
       "      <td>102.185058</td>\n",
       "      <td>104.080819</td>\n",
       "      <td>0.0</td>\n",
       "      <td>0.0</td>\n",
       "      <td>0</td>\n",
       "      <td>1</td>\n",
       "      <td>1</td>\n",
       "    </tr>\n",
       "  </tbody>\n",
       "</table>\n",
       "<p>5 rows × 560 columns</p>\n",
       "</div>"
      ],
      "text/plain": [
       "   Unnamed: 0   ID  GrNr       Posx       Posy       Posz        CMx  \\\n",
       "0           1  394     0  41839.938  49050.410  146618.52  41841.720   \n",
       "1           2  403     0  45247.900  51453.363  145176.55  45247.434   \n",
       "2           3  421     0  43345.830  50114.844  148136.55  43344.582   \n",
       "3           4  423     0  43848.816  51581.773  145344.84  43851.332   \n",
       "4           5  447     0  44503.348  47543.660  146977.92  44503.926   \n",
       "\n",
       "         CMy        CMz        Velx  ...  vdisp_dm_pos_sph_rh_z_bi  \\\n",
       "0  49049.500  146618.42   505.39545  ...                 56.230135   \n",
       "1  51453.367  145176.25   484.58800  ...                 61.195377   \n",
       "2  50116.066  148136.56  2266.76460  ...                 57.704420   \n",
       "3  51581.540  145348.30 -1288.37480  ...                 49.692601   \n",
       "4  47543.100  146978.66  -157.55678  ...                 57.704970   \n",
       "\n",
       "   vdisp_dm_pos_sph_rh_z_mweight  vdisp_dm_pos_sph_rh_z_lweight  \\\n",
       "0                            0.0                            0.0   \n",
       "1                            0.0                            0.0   \n",
       "2                            0.0                            0.0   \n",
       "3                            0.0                            0.0   \n",
       "4                            0.0                            0.0   \n",
       "\n",
       "   vdisp_dm_pos_sph_rh_3d_std  vdisp_dm_pos_sph_rh_3d_bi  \\\n",
       "0                   93.595999                  94.790011   \n",
       "1                  108.910434                 110.497556   \n",
       "2                  100.625152                 102.887322   \n",
       "3                   90.353464                  92.019996   \n",
       "4                  102.185058                 104.080819   \n",
       "\n",
       "   vdisp_dm_pos_sph_rh_3d_mweight  vdisp_dm_pos_sph_rh_3d_lweight  central  \\\n",
       "0                             0.0                             0.0        0   \n",
       "1                             0.0                             0.0        0   \n",
       "2                             0.0                             0.0        0   \n",
       "3                             0.0                             0.0        0   \n",
       "4                             0.0                             0.0        0   \n",
       "\n",
       "   quiescent  edge  \n",
       "0          1     1  \n",
       "1          1     1  \n",
       "2          1     1  \n",
       "3          1     1  \n",
       "4          1     1  \n",
       "\n",
       "[5 rows x 560 columns]"
      ]
     },
     "execution_count": 22,
     "metadata": {},
     "output_type": "execute_result"
    }
   ],
   "source": [
    "#subhalo table (~few seconds)\n",
    "t300 = pd.read_csv('./TNG300_quiescent_subhalos.csv')\n",
    "print(len(t300))\n",
    "t300.head()"
   ]
  }
 ],
 "metadata": {
  "kernelspec": {
   "display_name": "Python 3 (ipykernel)",
   "language": "python",
   "name": "python3"
  },
  "language_info": {
   "codemirror_mode": {
    "name": "ipython",
    "version": 3
   },
   "file_extension": ".py",
   "mimetype": "text/x-python",
   "name": "python",
   "nbconvert_exporter": "python",
   "pygments_lexer": "ipython3",
   "version": "3.10.12"
  }
 },
 "nbformat": 4,
 "nbformat_minor": 5
}
