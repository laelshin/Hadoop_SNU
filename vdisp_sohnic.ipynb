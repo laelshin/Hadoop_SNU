{
 "cells": [
  {
   "cell_type": "code",
   "execution_count": 13,
   "id": "317a204a-5931-4bec-8bf6-21af394be50d",
   "metadata": {},
   "outputs": [],
   "source": [
    "import numpy as np\n",
    "import pandas as pd\n",
    "import glob\n",
    "import sys\n",
    "import h5py\n",
    "\n",
    "from datetime import datetime\n",
    "from tqdm.notebook import tqdm\n",
    "import matplotlib.pyplot as plt\n",
    "from scipy.spatial import cKDTree\n",
    "\n",
    "import pyarrow as pa\n",
    "import pyarrow.parquet as pqw\n",
    "\n",
    "from functools import reduce\n",
    "import operator\n",
    "import gc\n",
    "\n",
    "h = 0.6774\n",
    "box_size = 205000"
   ]
  },
  {
   "cell_type": "code",
   "execution_count": 2,
   "id": "edb2c828-32a0-4e20-bfeb-d2caa6111ba1",
   "metadata": {},
   "outputs": [],
   "source": [
    "# plot settings\n",
    "plt.rc('font', family='serif')\n",
    "plt.rcParams.update({'font.size': 16})\n",
    "plt.rcParams['mathtext.fontset'] = 'stix'"
   ]
  },
  {
   "cell_type": "code",
   "execution_count": 3,
   "id": "3a3fd752-f3dc-470f-a573-b838d6761987",
   "metadata": {},
   "outputs": [
    {
     "name": "stderr",
     "output_type": "stream",
     "text": [
      "Setting default log level to \"WARN\".\n",
      "To adjust logging level use sc.setLogLevel(newLevel). For SparkR, use setLogLevel(newLevel).\n",
      "24/10/02 16:00:17 WARN NativeCodeLoader: Unable to load native-hadoop library for your platform... using builtin-java classes where applicable\n"
     ]
    }
   ],
   "source": [
    "from pyspark import SparkContext   \n",
    "from pyspark.sql import SparkSession\n",
    "\n",
    "import pyspark.sql.functions as F\n",
    "from pyspark.sql.functions import broadcast, col, sqrt, pow, floor, monotonically_increasing_id, abs, pmod, least, row_number\n",
    "import pyspark.sql.types as T\n",
    "from pyspark import Row\n",
    "from pyspark.sql.window import Window as W\n",
    "\n",
    "spark = SparkSession.builder \\\n",
    "    .appName(\"MyApp\") \\\n",
    "    .master(\"spark://sohnic:7077\") \\\n",
    "    .config(\"spark.driver.memory\", \"100g\") \\\n",
    "    .getOrCreate()\n",
    "\n",
    "sc = spark.sparkContext\n",
    "sc.setCheckpointDir(\"hdfs://sohnic:54310/tmp/checkpoints\")\n",
    "\n",
    "spark.conf.set(\"spark.sql.debug.maxToStringFields\", 500)\n",
    "spark.conf.set(\"spark.sql.execution.arrow.pyspark.enabled\", \"true\")\n",
    "spark.conf.set(\"spark.sql.hive.filesourcePartitionFileCacheSize\", 524288000) # 500MB "
   ]
  },
  {
   "cell_type": "markdown",
   "id": "66d40ccb-87e4-4b2a-8e16-6c3e83be1d40",
   "metadata": {},
   "source": [
    "# 1. Reading the particle and subhalo data"
   ]
  },
  {
   "cell_type": "code",
   "execution_count": 4,
   "id": "c376c867-2f23-4e62-a03f-4b10692aed0e",
   "metadata": {},
   "outputs": [
    {
     "name": "stderr",
     "output_type": "stream",
     "text": [
      "                                                                                \r"
     ]
    },
    {
     "name": "stdout",
     "output_type": "stream",
     "text": [
      "CPU times: user 6.83 ms, sys: 0 ns, total: 6.83 ms\n",
      "Wall time: 2.94 s\n"
     ]
    }
   ],
   "source": [
    "%%time\n",
    "#outname = 'hdfs://sohnic:54310/data/TNG300/snap99/parquet/snap099_sorted.parquet.snappy'\n",
    "outname = 'hdfs://sohnic:54310/data/TNG300/snap99/parquet/snap099_cubic_indexed.parquet.snappy'\n",
    "\n",
    "rawdf = spark.read.option(\"header\",\"true\").option(\"recursiveFileLookup\",\"true\").parquet(outname)"
   ]
  },
  {
   "cell_type": "code",
   "execution_count": 10,
   "id": "24ece6a2-db20-4948-b054-3f41ddade35f",
   "metadata": {},
   "outputs": [],
   "source": [
    "##dividing the data into 100*100*100 boxes and adding the column for the box id\n",
    "#rawdf = rawdf.withColumn(\"ix\", floor(F.col(\"px\") / (box_size/100) ).cast('int'))\n",
    "#rawdf = rawdf.withColumn(\"iy\", floor(F.col(\"py\") / (box_size/100) ).cast('int'))\n",
    "#rawdf = rawdf.withColumn(\"iz\", floor(F.col(\"pz\") / (box_size/100) ).cast('int'))\n",
    "#\n",
    "#outname = 'hdfs://sohnic:54310/data/TNG300/snap99/parquet/snap099_cubic_indexed.parquet.snappy'\n",
    "#rawdf.write.option(\"compression\", \"snappy\").mode(\"overwrite\").save(outname)"
   ]
  },
  {
   "cell_type": "code",
   "execution_count": 5,
   "id": "a1d4f912-8450-4723-980c-fc872819ff0e",
   "metadata": {},
   "outputs": [
    {
     "name": "stdout",
     "output_type": "stream",
     "text": [
      "root\n",
      " |-- px: double (nullable = true)\n",
      " |-- py: double (nullable = true)\n",
      " |-- pz: double (nullable = true)\n",
      " |-- vx: double (nullable = true)\n",
      " |-- vy: double (nullable = true)\n",
      " |-- vz: double (nullable = true)\n",
      " |-- mass: double (nullable = true)\n",
      " |-- ix: integer (nullable = true)\n",
      " |-- iy: integer (nullable = true)\n",
      " |-- iz: integer (nullable = true)\n",
      "\n"
     ]
    }
   ],
   "source": [
    "rawdf.printSchema()"
   ]
  },
  {
   "cell_type": "code",
   "execution_count": 6,
   "id": "b4245eeb-f7e4-45ad-8e17-5a5491a1e67d",
   "metadata": {},
   "outputs": [
    {
     "name": "stderr",
     "output_type": "stream",
     "text": [
      "[Stage 1:===================================================>  (410 + 22) / 432]\r"
     ]
    },
    {
     "name": "stdout",
     "output_type": "stream",
     "text": [
      "CPU times: user 102 ms, sys: 9.73 ms, total: 112 ms\n",
      "Wall time: 9.02 s\n"
     ]
    },
    {
     "name": "stderr",
     "output_type": "stream",
     "text": [
      "                                                                                \r"
     ]
    },
    {
     "data": {
      "text/html": [
       "<div>\n",
       "<style scoped>\n",
       "    .dataframe tbody tr th:only-of-type {\n",
       "        vertical-align: middle;\n",
       "    }\n",
       "\n",
       "    .dataframe tbody tr th {\n",
       "        vertical-align: top;\n",
       "    }\n",
       "\n",
       "    .dataframe thead th {\n",
       "        text-align: right;\n",
       "    }\n",
       "</style>\n",
       "<table border=\"1\" class=\"dataframe\">\n",
       "  <thead>\n",
       "    <tr style=\"text-align: right;\">\n",
       "      <th></th>\n",
       "      <th>0</th>\n",
       "      <th>1</th>\n",
       "      <th>2</th>\n",
       "      <th>3</th>\n",
       "    </tr>\n",
       "  </thead>\n",
       "  <tbody>\n",
       "    <tr>\n",
       "      <th>px</th>\n",
       "      <td>91627.086451</td>\n",
       "      <td>91631.104039</td>\n",
       "      <td>91624.890629</td>\n",
       "      <td>91630.127959</td>\n",
       "    </tr>\n",
       "    <tr>\n",
       "      <th>py</th>\n",
       "      <td>77359.627285</td>\n",
       "      <td>77365.758346</td>\n",
       "      <td>77361.689091</td>\n",
       "      <td>77358.576125</td>\n",
       "    </tr>\n",
       "    <tr>\n",
       "      <th>pz</th>\n",
       "      <td>50717.781615</td>\n",
       "      <td>50718.788901</td>\n",
       "      <td>50715.777671</td>\n",
       "      <td>50713.826579</td>\n",
       "    </tr>\n",
       "    <tr>\n",
       "      <th>vx</th>\n",
       "      <td>-468.145940</td>\n",
       "      <td>-403.373400</td>\n",
       "      <td>-468.546050</td>\n",
       "      <td>-472.101960</td>\n",
       "    </tr>\n",
       "    <tr>\n",
       "      <th>vy</th>\n",
       "      <td>197.275180</td>\n",
       "      <td>126.342120</td>\n",
       "      <td>275.190600</td>\n",
       "      <td>208.752870</td>\n",
       "    </tr>\n",
       "    <tr>\n",
       "      <th>vz</th>\n",
       "      <td>-181.936140</td>\n",
       "      <td>-209.147260</td>\n",
       "      <td>-106.415016</td>\n",
       "      <td>-132.136810</td>\n",
       "    </tr>\n",
       "    <tr>\n",
       "      <th>mass</th>\n",
       "      <td>0.000753</td>\n",
       "      <td>0.000461</td>\n",
       "      <td>0.000608</td>\n",
       "      <td>0.000715</td>\n",
       "    </tr>\n",
       "    <tr>\n",
       "      <th>ix</th>\n",
       "      <td>44.000000</td>\n",
       "      <td>44.000000</td>\n",
       "      <td>44.000000</td>\n",
       "      <td>44.000000</td>\n",
       "    </tr>\n",
       "    <tr>\n",
       "      <th>iy</th>\n",
       "      <td>37.000000</td>\n",
       "      <td>37.000000</td>\n",
       "      <td>37.000000</td>\n",
       "      <td>37.000000</td>\n",
       "    </tr>\n",
       "    <tr>\n",
       "      <th>iz</th>\n",
       "      <td>24.000000</td>\n",
       "      <td>24.000000</td>\n",
       "      <td>24.000000</td>\n",
       "      <td>24.000000</td>\n",
       "    </tr>\n",
       "  </tbody>\n",
       "</table>\n",
       "</div>"
      ],
      "text/plain": [
       "                 0             1             2             3\n",
       "px    91627.086451  91631.104039  91624.890629  91630.127959\n",
       "py    77359.627285  77365.758346  77361.689091  77358.576125\n",
       "pz    50717.781615  50718.788901  50715.777671  50713.826579\n",
       "vx     -468.145940   -403.373400   -468.546050   -472.101960\n",
       "vy      197.275180    126.342120    275.190600    208.752870\n",
       "vz     -181.936140   -209.147260   -106.415016   -132.136810\n",
       "mass      0.000753      0.000461      0.000608      0.000715\n",
       "ix       44.000000     44.000000     44.000000     44.000000\n",
       "iy       37.000000     37.000000     37.000000     37.000000\n",
       "iz       24.000000     24.000000     24.000000     24.000000"
      ]
     },
     "execution_count": 6,
     "metadata": {},
     "output_type": "execute_result"
    }
   ],
   "source": [
    "%%time\n",
    "rawdf.limit(4).toPandas().T"
   ]
  },
  {
   "cell_type": "code",
   "execution_count": 24,
   "id": "b60660e9-fd98-4775-8efb-ef880b9b4ff2",
   "metadata": {},
   "outputs": [
    {
     "name": "stderr",
     "output_type": "stream",
     "text": [
      "[Stage 18:=====================================================>(428 + 4) / 432]\r"
     ]
    },
    {
     "name": "stdout",
     "output_type": "stream",
     "text": [
      "+-------+------------------+------------------+------------------+------------------+------------------+--------------------+--------------------+------------------+------------------+------------------+\n",
      "|summary|                px|                py|                pz|                vx|                vy|                  vz|                mass|                ix|                iy|                iz|\n",
      "+-------+------------------+------------------+------------------+------------------+------------------+--------------------+--------------------+------------------+------------------+------------------+\n",
      "|  count|         711967480|         711967480|         711967480|         711967480|         711967480|           711967480|           711967480|         711967480|         711967480|         711967480|\n",
      "|   mean|100688.61828005512| 99059.36895091024|105857.77590178407|1.2704478306707205| 1.088022603117185|-0.30910798969780295|5.280344892323588E-4| 48.61480849659032|47.819169449986674| 51.13804229794316|\n",
      "| stddev| 58078.24131182934|57695.004162679135| 59449.99554702262| 376.9752051507221|390.00232101241136|  379.19046823402135|1.424400845340054...|28.330790072265984|28.146630852037955|28.998353139603367|\n",
      "|    min| 1.136348000727E-4|  8.96728655789E-4|   6.5989815512E-4|        -4127.3325|        -3954.2883|          -4355.7554|         8.154293E-6|                 0|                 0|                 0|\n",
      "|    max| 204999.9994621104| 204999.9977547349| 204999.9998752371|         4329.7563|          4393.859|            5640.448|        0.0014874495|                99|                99|                99|\n",
      "+-------+------------------+------------------+------------------+------------------+------------------+--------------------+--------------------+------------------+------------------+------------------+\n",
      "\n",
      "CPU times: user 86.2 ms, sys: 25.7 ms, total: 112 ms\n",
      "Wall time: 42.3 s\n"
     ]
    },
    {
     "name": "stderr",
     "output_type": "stream",
     "text": [
      "                                                                                \r"
     ]
    }
   ],
   "source": [
    "%%time\n",
    "rawdf.describe().show() "
   ]
  },
  {
   "cell_type": "code",
   "execution_count": 13,
   "id": "77f33055-1abf-42ae-bf4a-2c38b86f5987",
   "metadata": {},
   "outputs": [
    {
     "name": "stderr",
     "output_type": "stream",
     "text": [
      "[Stage 3:=================================================>    (395 + 37) / 432]\r"
     ]
    },
    {
     "name": "stdout",
     "output_type": "stream",
     "text": [
      "CPU times: user 14.4 ms, sys: 29.4 ms, total: 43.8 ms\n",
      "Wall time: 2.55 s\n"
     ]
    },
    {
     "name": "stderr",
     "output_type": "stream",
     "text": [
      "                                                                                \r"
     ]
    }
   ],
   "source": [
    "%%time\n",
    "#counting the number of particles in each box\n",
    "# Group by cubic indices (ix, iy, iz) and count the number of particles\n",
    "counts_df = rawdf.groupBy(\"ix\", \"iy\", \"iz\").agg(F.count(\"*\").alias(\"particle_count\"))\n",
    "\n",
    "# Collect the results into pandas DataFrame for plotting\n",
    "pandas_counts_df = counts_df.toPandas()"
   ]
  },
  {
   "cell_type": "code",
   "execution_count": 14,
   "id": "517a01de-c987-4b50-9f63-6a49047b9b42",
   "metadata": {},
   "outputs": [
    {
     "name": "stdout",
     "output_type": "stream",
     "text": [
      "1648.4773578702182\n"
     ]
    }
   ],
   "source": [
    "print(np.average(pandas_counts_df['particle_count']))"
   ]
  },
  {
   "cell_type": "code",
   "execution_count": 15,
   "id": "e92b9137-ffb6-4d13-b289-4363ef4bd4c9",
   "metadata": {},
   "outputs": [
    {
     "data": {
      "image/png": "[encoded data removed]",
      "text/plain": [
       "<Figure size 1000x600 with 1 Axes>"
      ]
     },
     "metadata": {},
     "output_type": "display_data"
    }
   ],
   "source": [
    "plt.figure(figsize=(10,6))\n",
    "plt.hist(pandas_counts_df['particle_count'], bins=np.logspace(-1, 7, 20), edgecolor='black')\n",
    "plt.axvline(x=np.average(pandas_counts_df['particle_count']), color = 'darkred',label = 'average count ~ 1650')\n",
    "plt.title(\"Histogram of Particle Counts in (ix, iy, iz) Cubic Indices\")\n",
    "plt.xscale('log')\n",
    "plt.yscale('log')\n",
    "plt.xlabel(\"Particle Count\")\n",
    "plt.ylabel(\"Frequency\")\n",
    "plt.legend()\n",
    "plt.show()"
   ]
  },
  {
   "cell_type": "code",
   "execution_count": 7,
   "id": "34b84812-aea7-4907-9fba-e49f938f4565",
   "metadata": {},
   "outputs": [
    {
     "name": "stdout",
     "output_type": "stream",
     "text": [
      "CPU times: user 5.92 ms, sys: 6.21 ms, total: 12.1 ms\n",
      "Wall time: 721 ms\n"
     ]
    },
    {
     "data": {
      "text/html": [
       "<div>\n",
       "<style scoped>\n",
       "    .dataframe tbody tr th:only-of-type {\n",
       "        vertical-align: middle;\n",
       "    }\n",
       "\n",
       "    .dataframe tbody tr th {\n",
       "        vertical-align: top;\n",
       "    }\n",
       "\n",
       "    .dataframe thead th {\n",
       "        text-align: right;\n",
       "    }\n",
       "</style>\n",
       "<table border=\"1\" class=\"dataframe\">\n",
       "  <thead>\n",
       "    <tr style=\"text-align: right;\">\n",
       "      <th></th>\n",
       "      <th>sub_px</th>\n",
       "      <th>sub_py</th>\n",
       "      <th>sub_pz</th>\n",
       "      <th>sub_vx</th>\n",
       "      <th>sub_vy</th>\n",
       "      <th>sub_vz</th>\n",
       "      <th>sub_mass</th>\n",
       "      <th>sub_id</th>\n",
       "      <th>sub_ix</th>\n",
       "      <th>sub_iy</th>\n",
       "      <th>sub_iz</th>\n",
       "    </tr>\n",
       "  </thead>\n",
       "  <tbody>\n",
       "    <tr>\n",
       "      <th>0</th>\n",
       "      <td>39401.218750</td>\n",
       "      <td>43350.691406</td>\n",
       "      <td>150814.250000</td>\n",
       "      <td>343.093842</td>\n",
       "      <td>1247.922363</td>\n",
       "      <td>-420.458649</td>\n",
       "      <td>2.724841e+10</td>\n",
       "      <td>67875</td>\n",
       "      <td>19</td>\n",
       "      <td>21</td>\n",
       "      <td>73</td>\n",
       "    </tr>\n",
       "    <tr>\n",
       "      <th>1</th>\n",
       "      <td>35301.429688</td>\n",
       "      <td>136290.875000</td>\n",
       "      <td>171013.640625</td>\n",
       "      <td>706.050110</td>\n",
       "      <td>177.015137</td>\n",
       "      <td>-33.084732</td>\n",
       "      <td>2.605518e+10</td>\n",
       "      <td>67876</td>\n",
       "      <td>17</td>\n",
       "      <td>66</td>\n",
       "      <td>83</td>\n",
       "    </tr>\n",
       "    <tr>\n",
       "      <th>2</th>\n",
       "      <td>55238.164062</td>\n",
       "      <td>64904.765625</td>\n",
       "      <td>12711.584961</td>\n",
       "      <td>-205.236481</td>\n",
       "      <td>-150.627762</td>\n",
       "      <td>-276.507416</td>\n",
       "      <td>3.077018e+10</td>\n",
       "      <td>67877</td>\n",
       "      <td>26</td>\n",
       "      <td>31</td>\n",
       "      <td>6</td>\n",
       "    </tr>\n",
       "    <tr>\n",
       "      <th>3</th>\n",
       "      <td>184922.171875</td>\n",
       "      <td>4709.947754</td>\n",
       "      <td>151160.218750</td>\n",
       "      <td>25.438437</td>\n",
       "      <td>-17.173027</td>\n",
       "      <td>-139.466187</td>\n",
       "      <td>2.627657e+10</td>\n",
       "      <td>67878</td>\n",
       "      <td>90</td>\n",
       "      <td>2</td>\n",
       "      <td>73</td>\n",
       "    </tr>\n",
       "  </tbody>\n",
       "</table>\n",
       "</div>"
      ],
      "text/plain": [
       "          sub_px         sub_py         sub_pz      sub_vx       sub_vy  \\\n",
       "0   39401.218750   43350.691406  150814.250000  343.093842  1247.922363   \n",
       "1   35301.429688  136290.875000  171013.640625  706.050110   177.015137   \n",
       "2   55238.164062   64904.765625   12711.584961 -205.236481  -150.627762   \n",
       "3  184922.171875    4709.947754  151160.218750   25.438437   -17.173027   \n",
       "\n",
       "       sub_vz      sub_mass  sub_id  sub_ix  sub_iy  sub_iz  \n",
       "0 -420.458649  2.724841e+10   67875      19      21      73  \n",
       "1  -33.084732  2.605518e+10   67876      17      66      83  \n",
       "2 -276.507416  3.077018e+10   67877      26      31       6  \n",
       "3 -139.466187  2.627657e+10   67878      90       2      73  "
      ]
     },
     "execution_count": 7,
     "metadata": {},
     "output_type": "execute_result"
    }
   ],
   "source": [
    "%%time\n",
    "#subhalo table\n",
    "#subname = 'hdfs://sohnic:54310/data/TNG300/snap99/parquet/subhalo_trim.parquet.snappy'\n",
    "subname = 'hdfs://sohnic:54310/data/TNG300/snap99/parquet/subhalo_trim_cubic_indexed.parquet.snappy'\n",
    "subdf = spark.read.option(\"header\",\"true\").option(\"recursiveFileLookup\",\"true\").parquet(subname)\n",
    "\n",
    "#adding a column for the subhalo id\n",
    "#subdf = subdf.withColumn(\"sub_id\", F.monotonically_increasing_id())\n",
    "#windowSpec = W.orderBy(\"sub_id\")\n",
    "#subdf = subdf.withColumn(\"sub_id\", F.row_number().over(windowSpec) - 1)\n",
    "\n",
    "subdf.limit(4).toPandas()\n",
    "#subdf.describe().toPandas().T "
   ]
  },
  {
   "cell_type": "code",
   "execution_count": 18,
   "id": "7b88fd74-0a16-4b7d-aebe-223293088546",
   "metadata": {},
   "outputs": [
    {
     "name": "stderr",
     "output_type": "stream",
     "text": [
      "                                                                                \r"
     ]
    },
    {
     "data": {
      "text/html": [
       "<div>\n",
       "<style scoped>\n",
       "    .dataframe tbody tr th:only-of-type {\n",
       "        vertical-align: middle;\n",
       "    }\n",
       "\n",
       "    .dataframe tbody tr th {\n",
       "        vertical-align: top;\n",
       "    }\n",
       "\n",
       "    .dataframe thead th {\n",
       "        text-align: right;\n",
       "    }\n",
       "</style>\n",
       "<table border=\"1\" class=\"dataframe\">\n",
       "  <thead>\n",
       "    <tr style=\"text-align: right;\">\n",
       "      <th></th>\n",
       "      <th>sub_px</th>\n",
       "      <th>sub_py</th>\n",
       "      <th>sub_pz</th>\n",
       "      <th>sub_vx</th>\n",
       "      <th>sub_vy</th>\n",
       "      <th>sub_vz</th>\n",
       "      <th>sub_mass</th>\n",
       "      <th>sub_id</th>\n",
       "      <th>sub_ix</th>\n",
       "      <th>sub_iy</th>\n",
       "      <th>sub_iz</th>\n",
       "    </tr>\n",
       "  </thead>\n",
       "  <tbody>\n",
       "    <tr>\n",
       "      <th>0</th>\n",
       "      <td>99173.578125</td>\n",
       "      <td>40274.546875</td>\n",
       "      <td>107897.390625</td>\n",
       "      <td>-67.104362</td>\n",
       "      <td>-151.330200</td>\n",
       "      <td>167.907593</td>\n",
       "      <td>3.492153e+11</td>\n",
       "      <td>103713</td>\n",
       "      <td>48</td>\n",
       "      <td>19</td>\n",
       "      <td>52</td>\n",
       "    </tr>\n",
       "    <tr>\n",
       "      <th>1</th>\n",
       "      <td>120705.281250</td>\n",
       "      <td>69941.101562</td>\n",
       "      <td>157908.031250</td>\n",
       "      <td>269.752045</td>\n",
       "      <td>-320.683807</td>\n",
       "      <td>128.344238</td>\n",
       "      <td>3.287442e+11</td>\n",
       "      <td>103714</td>\n",
       "      <td>58</td>\n",
       "      <td>34</td>\n",
       "      <td>77</td>\n",
       "    </tr>\n",
       "    <tr>\n",
       "      <th>2</th>\n",
       "      <td>204545.296875</td>\n",
       "      <td>170294.812500</td>\n",
       "      <td>87957.867188</td>\n",
       "      <td>363.489685</td>\n",
       "      <td>148.479889</td>\n",
       "      <td>-54.548824</td>\n",
       "      <td>3.453248e+11</td>\n",
       "      <td>103715</td>\n",
       "      <td>99</td>\n",
       "      <td>83</td>\n",
       "      <td>42</td>\n",
       "    </tr>\n",
       "    <tr>\n",
       "      <th>3</th>\n",
       "      <td>173194.890625</td>\n",
       "      <td>158155.453125</td>\n",
       "      <td>162955.359375</td>\n",
       "      <td>83.774239</td>\n",
       "      <td>-126.974121</td>\n",
       "      <td>218.970139</td>\n",
       "      <td>3.937560e+11</td>\n",
       "      <td>103716</td>\n",
       "      <td>84</td>\n",
       "      <td>77</td>\n",
       "      <td>79</td>\n",
       "    </tr>\n",
       "    <tr>\n",
       "      <th>4</th>\n",
       "      <td>34154.796875</td>\n",
       "      <td>35974.179688</td>\n",
       "      <td>149377.250000</td>\n",
       "      <td>559.149902</td>\n",
       "      <td>597.246765</td>\n",
       "      <td>-471.297150</td>\n",
       "      <td>3.869574e+11</td>\n",
       "      <td>103717</td>\n",
       "      <td>16</td>\n",
       "      <td>17</td>\n",
       "      <td>72</td>\n",
       "    </tr>\n",
       "  </tbody>\n",
       "</table>\n",
       "</div>"
      ],
      "text/plain": [
       "          sub_px         sub_py         sub_pz      sub_vx      sub_vy  \\\n",
       "0   99173.578125   40274.546875  107897.390625  -67.104362 -151.330200   \n",
       "1  120705.281250   69941.101562  157908.031250  269.752045 -320.683807   \n",
       "2  204545.296875  170294.812500   87957.867188  363.489685  148.479889   \n",
       "3  173194.890625  158155.453125  162955.359375   83.774239 -126.974121   \n",
       "4   34154.796875   35974.179688  149377.250000  559.149902  597.246765   \n",
       "\n",
       "       sub_vz      sub_mass  sub_id  sub_ix  sub_iy  sub_iz  \n",
       "0  167.907593  3.492153e+11  103713      48      19      52  \n",
       "1  128.344238  3.287442e+11  103714      58      34      77  \n",
       "2  -54.548824  3.453248e+11  103715      99      83      42  \n",
       "3  218.970139  3.937560e+11  103716      84      77      79  \n",
       "4 -471.297150  3.869574e+11  103717      16      17      72  "
      ]
     },
     "execution_count": 18,
     "metadata": {},
     "output_type": "execute_result"
    }
   ],
   "source": [
    "##changing the column name for cross joining\n",
    "#subdf = subdf.withColumnRenamed(\"px\", \"sub_px\")\n",
    "#subdf = subdf.withColumnRenamed(\"py\", \"sub_py\")\n",
    "#subdf = subdf.withColumnRenamed(\"pz\", \"sub_pz\")\n",
    "#subdf = subdf.withColumnRenamed(\"vx\", \"sub_vx\")\n",
    "#subdf = subdf.withColumnRenamed(\"vy\", \"sub_vy\")\n",
    "#subdf = subdf.withColumnRenamed(\"vz\", \"sub_vz\")\n",
    "#subdf = subdf.withColumnRenamed(\"mass\", \"sub_mass\")\n",
    "\n",
    "##dividing the data into 100*100*100 boxes and adding the column for the box id\n",
    "#subdf = subdf.withColumn(\"sub_ix\", floor(F.col(\"sub_px\") / (box_size/100)).cast('int'))\n",
    "#subdf = subdf.withColumn(\"sub_iy\", floor(F.col(\"sub_py\") / (box_size/100)).cast('int'))\n",
    "#subdf = subdf.withColumn(\"sub_iz\", floor(F.col(\"sub_pz\") / (box_size/100)).cast('int'))\n",
    "#\n",
    "#outname = 'hdfs://sohnic:54310/data/TNG300/snap99/parquet/subhalo_trim_cubic_indexed.parquet.snappy'\n",
    "#subdf.write.option(\"compression\", \"snappy\").mode(\"overwrite\").save(outname)\n",
    "#subdf.toPandas().head()"
   ]
  },
  {
   "cell_type": "markdown",
   "id": "7956ae32-4ba1-491e-be0b-7daaae2cd802",
   "metadata": {},
   "source": [
    "# 2. Saving the particle data within the 50kpc spheres centered at each subhalo"
   ]
  },
  {
   "cell_type": "code",
   "execution_count": null,
   "id": "f9df73b6-080c-4b2f-b1ad-d937a30c73a4",
   "metadata": {},
   "outputs": [],
   "source": [
    "#direct distance square calculation\n",
    "radius_sq = (50*h)**2 #50kpc aperture size\n",
    "id_size = 100 #number of boxes\n",
    "\n",
    "#broad casting the subhalo table to the all workers\n",
    "broadcast_subdf = F.broadcast(subdf)\n",
    "\n",
    "# Step 1: Coarse filtering by grid indices considering the periodic boundary\n",
    "filtered_df = rawdf.crossJoin(broadcast_subdf).filter(\n",
    "    (F.least(F.abs(F.col(\"ix\") - F.col(\"sub_ix\")), id_size - F.abs(F.col(\"ix\") - F.col(\"sub_ix\")) ) <= 1) &\n",
    "    (F.least(F.abs(F.col(\"iy\") - F.col(\"sub_iy\")), id_size - F.abs(F.col(\"iy\") - F.col(\"sub_iy\")) ) <= 1) &\n",
    "    (F.least(F.abs(F.col(\"iz\") - F.col(\"sub_iz\")), id_size - F.abs(F.col(\"iz\") - F.col(\"sub_iz\")) ) <= 1)\n",
    "\n",
    "filtered_df = filtered_df.withColumn(\"dist_cent_sq\", F.pow(F.least(F.abs(F.col(\"px\") - F.col(\"sub_px\")), box_size - F.abs(F.col(\"px\") - F.col(\"sub_px\"))), 2) +\n",
    "                                                     F.pow(F.least(F.abs(F.col(\"py\") - F.col(\"sub_py\")), box_size - F.abs(F.col(\"py\") - F.col(\"sub_py\"))), 2) +\n",
    "                                                     F.pow(F.least(F.abs(F.col(\"pz\") - F.col(\"sub_pz\")), box_size - F.abs(F.col(\"pz\") - F.col(\"sub_pz\"))), 2))\n",
    "\n",
    "# Step 2: Fine filtering by distance calculation considering the periodic boundary\n",
    "filtered_df = filtered_df.filter(\n",
    "    (F.col(\"dist_cent_sq\")) < radius_sq\n",
    ")\n",
    "\n",
    "# Select relevant columns (including subhalo_id for identification)\n",
    "result_df = filtered_df.select(\"sub_id\", \"px\", \"py\", \"pz\", \"vx\", \"vy\", \"vz\", \"mass\", \"dist_cent_sq\")\n",
    "\n",
    "subname = 'hdfs://sohnic:54310/data/TNG300/snap99/parquet/extracted_region_240918.parquet.snappy'\n",
    "result_df.write.option(\"compression\", \"snappy\").mode(\"overwrite\").partitionBy(\"sub_id\").parquet(subname)"
   ]
  },
  {
   "cell_type": "markdown",
   "id": "2298ff3e-b433-4074-9604-9ba139b60ae1",
   "metadata": {},
   "source": [
    "# 2-1. KDTree Algorithm"
   ]
  },
  {
   "cell_type": "code",
   "execution_count": 30,
   "id": "b123c14e-42d2-4de1-9305-d012e2ae10fc",
   "metadata": {},
   "outputs": [
    {
     "name": "stdout",
     "output_type": "stream",
     "text": [
      "39161\n"
     ]
    }
   ],
   "source": [
    "#unique subbox id pairs\n",
    "# Step 1: Select the relevant columns and get distinct values\n",
    "unique_ids_df = subdf.select(\"sub_ix\", \"sub_iy\", \"sub_iz\").distinct()\n",
    "\n",
    "# Step 2: Collect the results to get a list of unique (id_x, id_y, id_z) tuples\n",
    "unique_ids_list = unique_ids_df.rdd.map(tuple).collect()\n",
    "print(len(unique_ids_list))"
   ]
  },
  {
   "cell_type": "code",
   "execution_count": 42,
   "id": "793f412b-e174-4fca-98c3-1e98767694ff",
   "metadata": {},
   "outputs": [
    {
     "name": "stderr",
     "output_type": "stream",
     "text": [
      "/usr/local/spark/python/pyspark/sql/pandas/serializers.py:229: FutureWarning: is_categorical_dtype is deprecated and will be removed in a future version. Use isinstance(dtype, CategoricalDtype) instead\n",
      "  elif is_categorical_dtype(s.dtype):\n",
      "                                                                                \r"
     ]
    },
    {
     "name": "stdout",
     "output_type": "stream",
     "text": [
      "CPU times: user 23.9 s, sys: 452 ms, total: 24.4 s\n",
      "Wall time: 1min 6s\n"
     ]
    }
   ],
   "source": [
    "%%time\n",
    "#kd-tree algorithm\n",
    "\n",
    "radius_kpc = 50 * h  # 50 kpc aperture size\n",
    "id_size = 100 #number of boxes\n",
    "\n",
    "#for the subbox id pair (ix, iy, iz)\n",
    "id_pair = unique_ids_list[0]\n",
    "subbox_size = box_size / id_size\n",
    "\n",
    "#center position of the subbox\n",
    "box_cent = np.array(id_pair) * subbox_size + np.array([1,1,1]) * subbox_size/2\n",
    "\n",
    "#rough filtering using subbox id\n",
    "filtered_ptl_df = rawdf.filter(\n",
    "    (F.least(F.abs(F.col(\"ix\") - id_pair[0]), id_size - F.abs(F.col(\"ix\") - id_pair[0]) ) <= 1) &\n",
    "    (F.least(F.abs(F.col(\"iy\") - id_pair[1]), id_size - F.abs(F.col(\"iy\") - id_pair[1]) ) <= 1) &\n",
    "    (F.least(F.abs(F.col(\"iz\") - id_pair[2]), id_size - F.abs(F.col(\"iz\") - id_pair[2]) ) <= 1))\n",
    "\n",
    "filtered_sub_df = subdf.filter(\n",
    "    (F.least(F.abs(F.col(\"sub_ix\") - id_pair[0]), id_size - F.abs(F.col(\"sub_ix\") - id_pair[0]) ) <= 1) &\n",
    "    (F.least(F.abs(F.col(\"sub_iy\") - id_pair[1]), id_size - F.abs(F.col(\"sub_iy\") - id_pair[1]) ) <= 1) &\n",
    "    (F.least(F.abs(F.col(\"sub_iz\") - id_pair[2]), id_size - F.abs(F.col(\"sub_iz\") - id_pair[2]) ) <= 1))\n",
    "\n",
    "#relative coordinate from the subbox center (box_cent). Considering the periodic boundary\n",
    "filtered_ptl_df = filtered_ptl_df.withColumn(\n",
    "    \"px_box_cent\",\n",
    "    F.pmod((F.col(\"px\") - box_cent[0]) + box_size / 2, box_size) - box_size / 2\n",
    ").withColumn(\n",
    "    \"py_box_cent\",\n",
    "    F.pmod((F.col(\"py\") - box_cent[1]) + box_size / 2, box_size) - box_size / 2\n",
    ").withColumn(\n",
    "    \"pz_box_cent\",\n",
    "    F.pmod((F.col(\"pz\") - box_cent[2]) + box_size / 2, box_size) - box_size / 2\n",
    ")\n",
    "\n",
    "filtered_sub_df = filtered_sub_df.withColumn(\n",
    "    \"sub_px_box_cent\",\n",
    "    F.pmod((F.col(\"sub_px\") - box_cent[0]) + box_size / 2, box_size) - box_size / 2\n",
    ").withColumn(\n",
    "    \"sub_py_box_cent\",\n",
    "    F.pmod((F.col(\"sub_py\") - box_cent[1]) + box_size / 2, box_size) - box_size / 2\n",
    ").withColumn(\n",
    "    \"sub_pz_box_cent\",\n",
    "    F.pmod((F.col(\"sub_pz\") - box_cent[2]) + box_size / 2, box_size) - box_size / 2\n",
    ")\n",
    "\n",
    "# Step 1: Convert PySpark DataFrames to Pandas\n",
    "particle_df_pd = filtered_ptl_df.select(\"px\", \"py\", \"pz\", \"vx\", \"vy\", \"vz\", \"mass\", \"px_box_cent\", \"py_box_cent\", \"pz_box_cent\").toPandas()\n",
    "subhalo_df_pd = filtered_sub_df.select(\"sub_id\", \"sub_px_box_cent\", \"sub_py_box_cent\", \"sub_pz_box_cent\").toPandas()\n",
    "\n",
    "# Step 2: Build cKDTree with Particle Positions\n",
    "particle_positions = particle_df_pd[[\"px_box_cent\", \"py_box_cent\", \"pz_box_cent\"]].values\n",
    "ckdtree = cKDTree(particle_positions)  # Use cKDTree\n",
    "\n",
    "subhalo_positions = subhalo_df_pd[[\"sub_px_box_cent\", \"sub_py_box_cent\", \"sub_pz_box_cent\"]].values\n",
    "indices = ckdtree.query_ball_point(subhalo_positions, r=radius_kpc)\n",
    "\n",
    "#saving the relevant data\n",
    "filtered_particles = []\n",
    "for sub_idx, particle_idx_list in enumerate(indices):\n",
    "    if particle_idx_list:\n",
    "        # For each subhalo, find the corresponding particles and save relevant data\n",
    "        subhalo = subhalo_df_pd.iloc[sub_idx]\n",
    "        subhalo_pos = subhalo[[\"sub_px_box_cent\", \"sub_py_box_cent\", \"sub_pz_box_cent\"]].values\n",
    "        \n",
    "        for particle_idx in particle_idx_list:\n",
    "            particle = particle_df_pd.iloc[particle_idx]\n",
    "            particle_pos = particle[[\"px_box_cent\", \"py_box_cent\", \"pz_box_cent\"]].values\n",
    "            \n",
    "            # Calculate squared distance (dist_cent_sq) between particle and subhalo\n",
    "            dist_cent_sq = np.sum((particle_pos - subhalo_pos) ** 2)\n",
    "            \n",
    "            # Save the particle and subhalo data along with the squared distance\n",
    "            filtered_particles.append({\n",
    "                'sub_id': subhalo['sub_id'],\n",
    "                'px': particle['px'],\n",
    "                'py': particle['py'],\n",
    "                'pz': particle['pz'],\n",
    "                'vx': particle['vx'],\n",
    "                'vy': particle['vy'],\n",
    "                'vz': particle['vz'],\n",
    "                'mass': particle['mass'],\n",
    "                'dist_cent_sq': dist_cent_sq  # Include the squared distance\n",
    "            })\n",
    "\n",
    "# Step 5: Convert filtered particles to Pandas DataFrame and back to PySpark\n",
    "filtered_df_pd = pd.DataFrame(filtered_particles)\n",
    "filtered_df = spark.createDataFrame(filtered_df_pd)\n",
    "\n",
    "# Step 6: Save the results with partitioning by sub_id\n",
    "subname = 'hdfs://sohnic:54310/data/TNG300/snap99/parquet/extracted_region_241002_kdtree_particles.parquet.snappy'\n",
    "filtered_df.write.option(\"compression\", \"snappy\").mode(\"overwrite\").partitionBy(\"sub_id\").parquet(subname)"
   ]
  },
  {
   "cell_type": "code",
   "execution_count": 7,
   "id": "a3a8ca67-3406-4b15-8308-604ccca17019",
   "metadata": {},
   "outputs": [
    {
     "name": "stderr",
     "output_type": "stream",
     "text": [
      "                                                                                \r"
     ]
    },
    {
     "data": {
      "text/html": [
       "<div>\n",
       "<style scoped>\n",
       "    .dataframe tbody tr th:only-of-type {\n",
       "        vertical-align: middle;\n",
       "    }\n",
       "\n",
       "    .dataframe tbody tr th {\n",
       "        vertical-align: top;\n",
       "    }\n",
       "\n",
       "    .dataframe thead th {\n",
       "        text-align: right;\n",
       "    }\n",
       "</style>\n",
       "<table border=\"1\" class=\"dataframe\">\n",
       "  <thead>\n",
       "    <tr style=\"text-align: right;\">\n",
       "      <th></th>\n",
       "      <th>summary</th>\n",
       "      <th>px</th>\n",
       "      <th>py</th>\n",
       "      <th>pz</th>\n",
       "      <th>vx</th>\n",
       "      <th>vy</th>\n",
       "      <th>vz</th>\n",
       "      <th>mass</th>\n",
       "      <th>dist_cent_sq</th>\n",
       "      <th>sub_id</th>\n",
       "    </tr>\n",
       "  </thead>\n",
       "  <tbody>\n",
       "    <tr>\n",
       "      <th>0</th>\n",
       "      <td>count</td>\n",
       "      <td>160</td>\n",
       "      <td>160</td>\n",
       "      <td>160</td>\n",
       "      <td>160</td>\n",
       "      <td>160</td>\n",
       "      <td>160</td>\n",
       "      <td>160</td>\n",
       "      <td>160</td>\n",
       "      <td>160</td>\n",
       "    </tr>\n",
       "    <tr>\n",
       "      <th>1</th>\n",
       "      <td>mean</td>\n",
       "      <td>86539.98217092815</td>\n",
       "      <td>115001.8123021865</td>\n",
       "      <td>144899.63376864442</td>\n",
       "      <td>-173.17213001875004</td>\n",
       "      <td>-162.7695493062501</td>\n",
       "      <td>201.53382877500002</td>\n",
       "      <td>5.594609641875001E-4</td>\n",
       "      <td>52.507032744363826</td>\n",
       "      <td>10000.0</td>\n",
       "    </tr>\n",
       "    <tr>\n",
       "      <th>2</th>\n",
       "      <td>stddev</td>\n",
       "      <td>4.3586223280873195</td>\n",
       "      <td>3.330779277000689</td>\n",
       "      <td>4.676035647780895</td>\n",
       "      <td>39.405089898886125</td>\n",
       "      <td>39.32917348856376</td>\n",
       "      <td>38.71986463333312</td>\n",
       "      <td>1.4510780084495814E-4</td>\n",
       "      <td>133.96340006846228</td>\n",
       "      <td>0.0</td>\n",
       "    </tr>\n",
       "    <tr>\n",
       "      <th>3</th>\n",
       "      <td>min</td>\n",
       "      <td>86517.54089495828</td>\n",
       "      <td>114987.06916561146</td>\n",
       "      <td>144874.48056289784</td>\n",
       "      <td>-298.88245</td>\n",
       "      <td>-250.64078</td>\n",
       "      <td>100.80679</td>\n",
       "      <td>2.5858832E-4</td>\n",
       "      <td>0.3857580077748698</td>\n",
       "      <td>10000</td>\n",
       "    </tr>\n",
       "    <tr>\n",
       "      <th>4</th>\n",
       "      <td>max</td>\n",
       "      <td>86558.38979516154</td>\n",
       "      <td>115009.8895705654</td>\n",
       "      <td>144911.07695180256</td>\n",
       "      <td>-54.3939</td>\n",
       "      <td>-47.9957</td>\n",
       "      <td>280.2506</td>\n",
       "      <td>8.7464123E-4</td>\n",
       "      <td>1050.5479423833408</td>\n",
       "      <td>10000</td>\n",
       "    </tr>\n",
       "  </tbody>\n",
       "</table>\n",
       "</div>"
      ],
      "text/plain": [
       "  summary                  px                  py                  pz  \\\n",
       "0   count                 160                 160                 160   \n",
       "1    mean   86539.98217092815   115001.8123021865  144899.63376864442   \n",
       "2  stddev  4.3586223280873195   3.330779277000689   4.676035647780895   \n",
       "3     min   86517.54089495828  114987.06916561146  144874.48056289784   \n",
       "4     max   86558.38979516154   115009.8895705654  144911.07695180256   \n",
       "\n",
       "                    vx                  vy                  vz  \\\n",
       "0                  160                 160                 160   \n",
       "1  -173.17213001875004  -162.7695493062501  201.53382877500002   \n",
       "2   39.405089898886125   39.32917348856376   38.71986463333312   \n",
       "3           -298.88245          -250.64078           100.80679   \n",
       "4             -54.3939            -47.9957            280.2506   \n",
       "\n",
       "                    mass        dist_cent_sq   sub_id  \n",
       "0                    160                 160      160  \n",
       "1   5.594609641875001E-4  52.507032744363826  10000.0  \n",
       "2  1.4510780084495814E-4  133.96340006846228      0.0  \n",
       "3           2.5858832E-4  0.3857580077748698    10000  \n",
       "4           8.7464123E-4  1050.5479423833408    10000  "
      ]
     },
     "execution_count": 7,
     "metadata": {},
     "output_type": "execute_result"
    }
   ],
   "source": [
    "#Checking the data\n",
    "subname = 'hdfs://sohnic:54310/data/TNG300/snap99/parquet/extracted_region_240918.parquet.snappy'\n",
    "df = spark.read.parquet(subname)\n",
    "\n",
    "df_filtered = df.filter(df.sub_id == 10000)\n",
    "df_filtered.describe().toPandas()"
   ]
  },
  {
   "cell_type": "markdown",
   "id": "832b01e8-538f-48ed-be21-4ac527d9f8a6",
   "metadata": {},
   "source": [
    "# 3. Calculating stellar velocity dispersion"
   ]
  },
  {
   "cell_type": "markdown",
   "id": "8030cd62-7854-4c72-8fa3-1c727171df23",
   "metadata": {},
   "source": [
    "We measure the stellar velocity dispersion of ~10$^5$ subhalos. We first select stellar particles within subhalo-centered spheres with a certain radius. We then calculate the mass-weighted stellar velocity dispersion based on the 3D velocity of selected stellar particles. \n",
    "\n",
    "### $M = \\Sigma m_i $\n",
    "### $\\overline{v_x} = \\frac{\\Sigma m_i v_{i,x}}{M}$, $\\, \\overline{v_y} = \\frac{\\Sigma m_i v_{i,y}}{M}$, $\\, \\overline{v_z} = \\frac{\\Sigma m_i v_{i,z}}{M}$ \n",
    "### $\\sigma_x^2 = \\frac{\\Sigma m_i (v_{i,x} - \\overline{v_{x}})^2}{M}$, $\\, \\sigma_y^2 = \\frac{\\Sigma m_i (v_{i,y} - \\overline{v_{y}})^2}{M}$, $\\, \\sigma_z^2 = \\frac{\\Sigma m_i (v_{i,z} - \\overline{v_{z}})^2}{M}$\n",
    "### $\\therefore \\sigma_{3D} = \\sqrt{\\sigma_x^2 + \\sigma_y^2 + \\sigma_z^2}$\n",
    "We repeat the above calculation for six different radii (3, 5, 10, 20, 30, and 50 kpc)."
   ]
  },
  {
   "cell_type": "code",
   "execution_count": 4,
   "id": "720d99f0-33aa-4009-8089-8c76045d069d",
   "metadata": {},
   "outputs": [
    {
     "name": "stderr",
     "output_type": "stream",
     "text": [
      "24/09/30 14:51:30 WARN SharedInMemoryCache: Evicting cached table partition metadata from memory due to size constraints (spark.sql.hive.filesourcePartitionFileCacheSize = 524288000 bytes). This may impact query planning performance.\n",
      "                                                                                \r"
     ]
    },
    {
     "data": {
      "text/html": [
       "<div>\n",
       "<style scoped>\n",
       "    .dataframe tbody tr th:only-of-type {\n",
       "        vertical-align: middle;\n",
       "    }\n",
       "\n",
       "    .dataframe tbody tr th {\n",
       "        vertical-align: top;\n",
       "    }\n",
       "\n",
       "    .dataframe thead th {\n",
       "        text-align: right;\n",
       "    }\n",
       "</style>\n",
       "<table border=\"1\" class=\"dataframe\">\n",
       "  <thead>\n",
       "    <tr style=\"text-align: right;\">\n",
       "      <th></th>\n",
       "      <th>summary</th>\n",
       "      <th>px</th>\n",
       "      <th>py</th>\n",
       "      <th>pz</th>\n",
       "      <th>vx</th>\n",
       "      <th>vy</th>\n",
       "      <th>vz</th>\n",
       "      <th>mass</th>\n",
       "      <th>dist_cent_sq</th>\n",
       "      <th>sub_id</th>\n",
       "    </tr>\n",
       "  </thead>\n",
       "  <tbody>\n",
       "    <tr>\n",
       "      <th>0</th>\n",
       "      <td>count</td>\n",
       "      <td>140</td>\n",
       "      <td>140</td>\n",
       "      <td>140</td>\n",
       "      <td>140</td>\n",
       "      <td>140</td>\n",
       "      <td>140</td>\n",
       "      <td>140</td>\n",
       "      <td>140</td>\n",
       "      <td>140</td>\n",
       "    </tr>\n",
       "    <tr>\n",
       "      <th>1</th>\n",
       "      <td>mean</td>\n",
       "      <td>41840.652056403436</td>\n",
       "      <td>49050.240491958146</td>\n",
       "      <td>146618.59384127078</td>\n",
       "      <td>491.1804762142857</td>\n",
       "      <td>2141.1263542857128</td>\n",
       "      <td>-734.4352684999993</td>\n",
       "      <td>5.289361012142856E-4</td>\n",
       "      <td>33.778025427646135</td>\n",
       "      <td>0.0</td>\n",
       "    </tr>\n",
       "    <tr>\n",
       "      <th>2</th>\n",
       "      <td>stddev</td>\n",
       "      <td>3.434179745897391</td>\n",
       "      <td>2.646253888959987</td>\n",
       "      <td>3.8308437191442546</td>\n",
       "      <td>47.42457028605087</td>\n",
       "      <td>43.16277394559926</td>\n",
       "      <td>46.21973330251511</td>\n",
       "      <td>1.3347494347952017E-4</td>\n",
       "      <td>69.45086123003283</td>\n",
       "      <td>0.0</td>\n",
       "    </tr>\n",
       "    <tr>\n",
       "      <th>3</th>\n",
       "      <td>min</td>\n",
       "      <td>41821.05056670708</td>\n",
       "      <td>49042.46942823968</td>\n",
       "      <td>146605.40289966715</td>\n",
       "      <td>330.69318</td>\n",
       "      <td>2015.9958</td>\n",
       "      <td>-865.76483</td>\n",
       "      <td>2.9745823E-4</td>\n",
       "      <td>2.034020586918334E-7</td>\n",
       "      <td>0</td>\n",
       "    </tr>\n",
       "    <tr>\n",
       "      <th>4</th>\n",
       "      <td>max</td>\n",
       "      <td>41854.11205584526</td>\n",
       "      <td>49061.58165936835</td>\n",
       "      <td>146634.89777236278</td>\n",
       "      <td>636.5443</td>\n",
       "      <td>2252.1292</td>\n",
       "      <td>-622.19794</td>\n",
       "      <td>8.7916595E-4</td>\n",
       "      <td>445.53822808873207</td>\n",
       "      <td>0</td>\n",
       "    </tr>\n",
       "  </tbody>\n",
       "</table>\n",
       "</div>"
      ],
      "text/plain": [
       "  summary                  px                  py                  pz  \\\n",
       "0   count                 140                 140                 140   \n",
       "1    mean  41840.652056403436  49050.240491958146  146618.59384127078   \n",
       "2  stddev   3.434179745897391   2.646253888959987  3.8308437191442546   \n",
       "3     min   41821.05056670708   49042.46942823968  146605.40289966715   \n",
       "4     max   41854.11205584526   49061.58165936835  146634.89777236278   \n",
       "\n",
       "                  vx                  vy                  vz  \\\n",
       "0                140                 140                 140   \n",
       "1  491.1804762142857  2141.1263542857128  -734.4352684999993   \n",
       "2  47.42457028605087   43.16277394559926   46.21973330251511   \n",
       "3          330.69318           2015.9958          -865.76483   \n",
       "4           636.5443           2252.1292          -622.19794   \n",
       "\n",
       "                    mass          dist_cent_sq sub_id  \n",
       "0                    140                   140    140  \n",
       "1   5.289361012142856E-4    33.778025427646135    0.0  \n",
       "2  1.3347494347952017E-4     69.45086123003283    0.0  \n",
       "3           2.9745823E-4  2.034020586918334E-7      0  \n",
       "4           8.7916595E-4    445.53822808873207      0  "
      ]
     },
     "execution_count": 4,
     "metadata": {},
     "output_type": "execute_result"
    }
   ],
   "source": [
    "subname = 'hdfs://sohnic:54310/data/TNG300/snap99/parquet/extracted_region_240918.parquet.snappy'\n",
    "\n",
    "df = spark.read.parquet(subname)\n",
    "\n",
    "df_filtered = df.filter(df.sub_id == 0)\n",
    "df_filtered.describe().toPandas()"
   ]
  },
  {
   "cell_type": "code",
   "execution_count": 5,
   "id": "7afb461d-662f-4b57-81b9-e161026a6b35",
   "metadata": {},
   "outputs": [
    {
     "name": "stderr",
     "output_type": "stream",
     "text": [
      "[Stage 5:==================================================>(9945 + 81) / 10026]\r"
     ]
    },
    {
     "name": "stdout",
     "output_type": "stream",
     "text": [
      "Number of distinct subhalo IDs: 104290\n"
     ]
    },
    {
     "name": "stderr",
     "output_type": "stream",
     "text": [
      "                                                                                \r"
     ]
    }
   ],
   "source": [
    "subhalo_count = df.select(\"sub_id\").distinct().count()\n",
    "print(f\"Number of distinct subhalo IDs: {subhalo_count}\")"
   ]
  },
  {
   "cell_type": "code",
   "execution_count": 5,
   "id": "2c12e5e6-8036-49e6-8a37-29690ec3f6ec",
   "metadata": {},
   "outputs": [
    {
     "name": "stderr",
     "output_type": "stream",
     "text": [
      "[Stage 17:>                                                         (0 + 1) / 1]6]\r"
     ]
    },
    {
     "name": "stdout",
     "output_type": "stream",
     "text": [
      "+------+------------------------------------+------------------------------------+------------------------------------+------------------------------------+-----------------------------------+-----------------------------------+\n",
      "|sub_id|mass_weighted_velocity_dispersion_50|mass_weighted_velocity_dispersion_30|mass_weighted_velocity_dispersion_20|mass_weighted_velocity_dispersion_10|mass_weighted_velocity_dispersion_5|mass_weighted_velocity_dispersion_3|\n",
      "+------+------------------------------------+------------------------------------+------------------------------------+------------------------------------+-----------------------------------+-----------------------------------+\n",
      "|   148|                   60.35325051104237|                   61.38776748254439|                   62.38146856184683|                   65.64963521122424|                  70.08732553224418|                   68.7290238298842|\n",
      "|   463|                  350.06665387531825|                   174.3795225514606|                   65.85059484032644|                    70.3421662040012|                  77.06847927474969|                  69.53473438484352|\n",
      "|   471|                   79.63014518196253|                   79.63014518196253|                   80.21501769060868|                   82.02545603433798|                  81.86393233405502|                   78.3021700202606|\n",
      "|   496|                   79.94159975254026|                   80.06108090258417|                    82.2158627425318|                   86.79595072398145|                  92.25382528853449|                  94.55522694382822|\n",
      "|   833|                  118.90606351509274|                   70.61286196583796|                   62.16088008523966|                   66.80570395191609|                  68.95808564765322|                  72.88690255304488|\n",
      "|  1088|                   58.73947274419978|                  60.160658807538496|                  60.924866153635776|                   67.96394468771173|                 61.949627669603814|                   34.7423768701555|\n",
      "|  1238|                  196.79614398747384|                   168.2526008103501|                  117.48896020319108|                   64.42709812138227|                  67.07068609245842|                   68.2084656047321|\n",
      "|  1342|                   201.4720435175276|                  200.72922681522707|                  218.49902933465563|                  183.52202481697023|                 117.73718874551554|                  65.93958901350477|\n",
      "|  1580|                   79.45915619136721|                   80.58087153929495|                   81.52291047004307|                    82.9734862936353|                  91.09102155610422|                  85.76128962403877|\n",
      "|  1591|                    78.9636749411399|                   78.89815908675916|                   79.39537304839848|                    80.7493570917965|                  80.24410680007335|                  74.39609591032612|\n",
      "|  1645|                    166.299463457783|                   69.64347513498976|                   70.00044709786707|                   77.41094897836425|                   84.7976296621319|                  83.53936600012545|\n",
      "|  1829|                   76.87344823509324|                    76.9523928215315|                   77.95543821340229|                   80.83861046257323|                  80.13265701257863|                 63.007232122430196|\n",
      "|  1959|                   73.33131536342574|                   71.48360588424701|                   71.86843731347501|                    73.8635629802795|                  75.31822590933392|                  75.90220922049305|\n",
      "|  2122|                   496.6818133219126|                   374.5495945136673|                  256.79875826912877|                   112.5336593275512|                  59.81238751454073|                  60.36118159390154|\n",
      "|  2142|                  114.39696706899191|                    89.1892849862181|                   80.73499117978359|                   72.22467958124143|                  67.54715625890093|                  53.00403831732871|\n",
      "|  2366|                   71.68354324609487|                   71.68354324609487|                   72.34583166128402|                   74.47322835094614|                  74.06999424622734|                  72.29874968011691|\n",
      "|  2659|                   69.27959882925349|                   69.36585610227455|                   69.58199897665745|                   70.50791862209017|                  74.27568686018373|                  74.14441463295017|\n",
      "|  2866|                    322.019862575317|                   443.2150627984422|                  467.80719255641446|                   263.3568862542142|                 156.78992544334028|                  235.5305932798533|\n",
      "|  3175|                   73.17059858036004|                   73.34525278475424|                    73.2440608580937|                   74.35162598797658|                  71.42642747785811|                  68.73212689217922|\n",
      "|  3749|                   208.2365162991214|                  126.54392345878333|                   77.87570329864506|                   80.87393623728119|                  79.86137925643399|                  80.51239595893792|\n",
      "+------+------------------------------------+------------------------------------+------------------------------------+------------------------------------+-----------------------------------+-----------------------------------+\n",
      "only showing top 20 rows\n",
      "\n",
      "CPU times: user 892 ms, sys: 142 ms, total: 1.03 s\n",
      "Wall time: 3min 24s\n"
     ]
    },
    {
     "name": "stderr",
     "output_type": "stream",
     "text": [
      "                                                                                \r"
     ]
    }
   ],
   "source": [
    "%%time\n",
    "from pyspark.sql import Window as W\n",
    "import pyspark.sql.functions as F\n",
    "\n",
    "# Define subhalo window for partitioning by \"sub_id\"\n",
    "subhalo_window = W.partitionBy(\"sub_id\")\n",
    "\n",
    "# Initial weighted velocity and dispersion calculations for all particles\n",
    "df = df.withColumn(\"vx_weighted\", F.col(\"mass\") * F.col(\"vx\"))\n",
    "df = df.withColumn(\"vy_weighted\", F.col(\"mass\") * F.col(\"vy\"))\n",
    "df = df.withColumn(\"vz_weighted\", F.col(\"mass\") * F.col(\"vz\"))\n",
    "\n",
    "df = df.withColumn(\"mass_sum\", F.sum(\"mass\").over(subhalo_window))\n",
    "\n",
    "df = df.withColumn(\"vx_avg\", F.sum(\"vx_weighted\").over(subhalo_window) / F.col(\"mass_sum\"))\n",
    "df = df.withColumn(\"vy_avg\", F.sum(\"vy_weighted\").over(subhalo_window) / F.col(\"mass_sum\"))\n",
    "df = df.withColumn(\"vz_avg\", F.sum(\"vz_weighted\").over(subhalo_window) / F.col(\"mass_sum\"))\n",
    "\n",
    "df = df.withColumn(\"vx_disp\", (F.col(\"vx\") - F.col(\"vx_avg\"))**2)\n",
    "df = df.withColumn(\"vy_disp\", (F.col(\"vy\") - F.col(\"vy_avg\"))**2)\n",
    "df = df.withColumn(\"vz_disp\", (F.col(\"vz\") - F.col(\"vz_avg\"))**2)\n",
    "\n",
    "df = df.withColumn(\"dispersion_weighted\", F.col(\"mass\") * (F.col(\"vx_disp\") + F.col(\"vy_disp\") + F.col(\"vz_disp\")))\n",
    "\n",
    "# First aperture (50 kpc)\n",
    "velocity_dispersion_df = df.groupBy(\"sub_id\").agg(\n",
    "    (F.sqrt(F.sum(\"dispersion_weighted\") / F.sum(\"mass\"))).alias(\"mass_weighted_velocity_dispersion_50\")\n",
    ")\n",
    "\n",
    "# Iterate through different apertures (30, 20, 10, 5, 3 kpc)\n",
    "for apert in [30, 20, 10, 5, 3]:\n",
    "    # Reset the DataFrame for each aperture\n",
    "    distance_limit = (apert * h) ** 2\n",
    "    df_aperture = df.filter(F.col(\"dist_cent_sq\") <= distance_limit)\n",
    "\n",
    "    df_aperture = df_aperture.withColumn(\"mass_sum\", F.sum(\"mass\").over(subhalo_window))\n",
    "    \n",
    "    df_aperture = df_aperture.withColumn(\"vx_avg\", F.sum(\"vx_weighted\").over(subhalo_window) / F.col(\"mass_sum\"))\n",
    "    df_aperture = df_aperture.withColumn(\"vy_avg\", F.sum(\"vy_weighted\").over(subhalo_window) / F.col(\"mass_sum\"))\n",
    "    df_aperture = df_aperture.withColumn(\"vz_avg\", F.sum(\"vz_weighted\").over(subhalo_window) / F.col(\"mass_sum\"))\n",
    "    \n",
    "    df_aperture = df_aperture.withColumn(\"vx_disp\", (F.col(\"vx\") - F.col(\"vx_avg\"))**2)\n",
    "    df_aperture = df_aperture.withColumn(\"vy_disp\", (F.col(\"vy\") - F.col(\"vy_avg\"))**2)\n",
    "    df_aperture = df_aperture.withColumn(\"vz_disp\", (F.col(\"vz\") - F.col(\"vz_avg\"))**2)\n",
    "    \n",
    "    df_aperture = df_aperture.withColumn(\"dispersion_weighted\", F.col(\"mass\") * (F.col(\"vx_disp\") + F.col(\"vy_disp\") + F.col(\"vz_disp\")))\n",
    "\n",
    "    velocity_dispersion_tmp = df_aperture.groupBy(\"sub_id\").agg(\n",
    "        (F.sqrt(F.sum(\"dispersion_weighted\") / F.sum(\"mass\"))).alias(\"mass_weighted_velocity_dispersion_\" + str(apert))\n",
    "    )\n",
    "    \n",
    "    # Combine the results for each aperture\n",
    "    velocity_dispersion_df = velocity_dispersion_df.join(velocity_dispersion_tmp, \"sub_id\")\n",
    "\n",
    "# Show the final combined DataFrame\n",
    "velocity_dispersion_df.show()"
   ]
  },
  {
   "cell_type": "code",
   "execution_count": 8,
   "id": "37880708-368a-4b33-965c-205d850c4cbf",
   "metadata": {},
   "outputs": [
    {
     "name": "stdout",
     "output_type": "stream",
     "text": [
      "+------+------------------------------------+------------------------------------+------------------------------------+------------------------------------+-----------------------------------+-----------------------------------+\n",
      "|sub_id|mass_weighted_velocity_dispersion_50|mass_weighted_velocity_dispersion_30|mass_weighted_velocity_dispersion_20|mass_weighted_velocity_dispersion_10|mass_weighted_velocity_dispersion_5|mass_weighted_velocity_dispersion_3|\n",
      "+------+------------------------------------+------------------------------------+------------------------------------+------------------------------------+-----------------------------------+-----------------------------------+\n",
      "| 10000|                   67.54407056722899|                   67.25768361639068|                   67.79019897412951|                   68.88366311763865|                  72.93970174994601|                  73.40487757132327|\n",
      "+------+------------------------------------+------------------------------------+------------------------------------+------------------------------------+-----------------------------------+-----------------------------------+\n",
      "\n"
     ]
    }
   ],
   "source": [
    "sub_id_to_find = 10000\n",
    "filtered_df = velocity_dispersion_df.filter(velocity_dispersion_df[\"sub_id\"] == sub_id_to_find)\n",
    "filtered_df.show()"
   ]
  },
  {
   "cell_type": "code",
   "execution_count": 9,
   "id": "cbca4c6a-e0f8-4286-a46b-2886a033646f",
   "metadata": {},
   "outputs": [
    {
     "name": "stderr",
     "output_type": "stream",
     "text": [
      "24/09/27 13:10:26 WARN TaskSetManager: Lost task 138.0 in stage 76.1 (TID 107912) (192.168.0.139 executor 21): TaskKilled (Stage cancelled)\n",
      "24/09/27 13:10:26 WARN TaskSetManager: Lost task 144.0 in stage 76.1 (TID 107918) (192.168.0.139 executor 21): TaskKilled (Stage cancelled)\n",
      "24/09/27 13:10:26 WARN TaskSetManager: Lost task 158.0 in stage 76.1 (TID 107930) (192.168.0.139 executor 21): TaskKilled (Stage cancelled)\n",
      "24/09/27 13:10:26 WARN TaskSetManager: Lost task 135.0 in stage 76.1 (TID 107909) (192.168.0.139 executor 21): TaskKilled (Stage cancelled)\n",
      "24/09/27 13:10:26 WARN TaskSetManager: Lost task 132.0 in stage 76.1 (TID 107906) (192.168.0.139 executor 21): TaskKilled (Stage cancelled)\n",
      "24/09/27 13:10:26 WARN TaskSetManager: Lost task 161.0 in stage 76.1 (TID 107933) (192.168.0.139 executor 21): TaskKilled (Stage cancelled)\n",
      "24/09/27 13:10:26 WARN TaskSetManager: Lost task 164.0 in stage 76.1 (TID 107936) (192.168.0.139 executor 21): TaskKilled (Stage cancelled)\n",
      "24/09/27 13:10:26 WARN TaskSetManager: Lost task 157.0 in stage 76.1 (TID 107929) (192.168.0.136 executor 19): TaskKilled (Stage cancelled)\n",
      "24/09/27 13:10:26 WARN TaskSetManager: Lost task 146.0 in stage 76.1 (TID 107920) (192.168.0.136 executor 19): TaskKilled (Stage cancelled)\n",
      "24/09/27 13:10:26 WARN TaskSetManager: Lost task 150.0 in stage 76.1 (TID 107923) (192.168.0.136 executor 19): TaskKilled (Stage cancelled)\n",
      "24/09/27 13:10:26 WARN TaskSetManager: Lost task 154.0 in stage 76.1 (TID 107926) (192.168.0.136 executor 19): TaskKilled (Stage cancelled)\n",
      "24/09/27 13:10:26 WARN TaskSetManager: Lost task 140.0 in stage 76.1 (TID 107914) (192.168.0.136 executor 19): TaskKilled (Stage cancelled)\n",
      "24/09/27 13:10:26 WARN TaskSetManager: Lost task 50.0 in stage 76.1 (TID 107829) (192.168.0.133 executor 16): TaskKilled (Stage cancelled)\n",
      "24/09/27 13:10:26 WARN TaskSetManager: Lost task 98.0 in stage 76.1 (TID 107875) (192.168.0.133 executor 16): TaskKilled (Stage cancelled)\n",
      "24/09/27 13:10:26 WARN TaskSetManager: Lost task 45.0 in stage 76.1 (TID 107819) (192.168.0.133 executor 16): TaskKilled (Stage cancelled)\n",
      "24/09/27 13:10:26 WARN TaskSetManager: Lost task 57.0 in stage 76.1 (TID 107843) (192.168.0.133 executor 16): TaskKilled (Stage cancelled)\n",
      "24/09/27 13:10:26 WARN TaskSetManager: Lost task 53.0 in stage 76.1 (TID 107834) (192.168.0.133 executor 16): TaskKilled (Stage cancelled)\n",
      "24/09/27 13:10:26 WARN TaskSetManager: Lost task 68.0 in stage 76.1 (TID 107851) (192.168.0.133 executor 16): TaskKilled (Stage cancelled)\n",
      "24/09/27 13:10:26 WARN TaskSetManager: Lost task 75.0 in stage 76.1 (TID 107855) (192.168.0.133 executor 16): TaskKilled (Stage cancelled)\n",
      "24/09/27 13:10:26 WARN TaskSetManager: Lost task 10.0 in stage 76.1 (TID 107784) (192.168.0.133 executor 16): TaskKilled (Stage cancelled)\n",
      "24/09/27 13:10:26 WARN TaskSetManager: Lost task 33.0 in stage 76.1 (TID 107809) (192.168.0.133 executor 16): TaskKilled (Stage cancelled)\n",
      "24/09/27 13:10:26 WARN TaskSetManager: Lost task 156.0 in stage 76.1 (TID 107928) (192.168.0.134 executor 20): TaskKilled (Stage cancelled)\n",
      "24/09/27 13:10:26 WARN TaskSetManager: Lost task 145.0 in stage 76.1 (TID 107919) (192.168.0.134 executor 20): TaskKilled (Stage cancelled)\n",
      "24/09/27 13:10:26 WARN TaskSetManager: Lost task 142.0 in stage 76.1 (TID 107916) (192.168.0.134 executor 20): TaskKilled (Stage cancelled)\n",
      "24/09/27 13:10:26 WARN TaskSetManager: Lost task 159.0 in stage 76.1 (TID 107931) (192.168.0.134 executor 20): TaskKilled (Stage cancelled)\n",
      "24/09/27 13:10:26 WARN TaskSetManager: Lost task 149.0 in stage 76.1 (TID 107922) (192.168.0.134 executor 20): TaskKilled (Stage cancelled)\n",
      "24/09/27 13:10:26 WARN TaskSetManager: Lost task 133.0 in stage 76.1 (TID 107907) (192.168.0.134 executor 20): TaskKilled (Stage cancelled)\n",
      "24/09/27 13:10:26 WARN TaskSetManager: Lost task 162.0 in stage 76.1 (TID 107934) (192.168.0.134 executor 20): TaskKilled (Stage cancelled)\n",
      "24/09/27 13:10:26 WARN TaskSetManager: Lost task 136.0 in stage 76.1 (TID 107910) (192.168.0.134 executor 20): TaskKilled (Stage cancelled)\n",
      "24/09/27 13:10:26 WARN TaskSetManager: Lost task 165.0 in stage 76.1 (TID 107937) (192.168.0.134 executor 20): TaskKilled (Stage cancelled)\n",
      "24/09/27 13:10:26 WARN TaskSetManager: Lost task 152.0 in stage 76.1 (TID 107925) (192.168.0.134 executor 20): TaskKilled (Stage cancelled)\n",
      "24/09/27 13:10:26 WARN TaskSetManager: Lost task 123.0 in stage 76.1 (TID 107897) (192.168.0.132 executor 15): TaskKilled (Stage cancelled)\n",
      "24/09/27 13:10:26 WARN TaskSetManager: Lost task 126.0 in stage 76.1 (TID 107900) (192.168.0.132 executor 15): TaskKilled (Stage cancelled)\n",
      "24/09/27 13:10:26 WARN TaskSetManager: Lost task 125.0 in stage 76.1 (TID 107899) (192.168.0.132 executor 15): TaskKilled (Stage cancelled)\n",
      "24/09/27 13:10:26 WARN TaskSetManager: Lost task 105.0 in stage 76.1 (TID 107883) (192.168.0.132 executor 15): TaskKilled (Stage cancelled)\n",
      "24/09/27 13:10:26 WARN TaskSetManager: Lost task 124.0 in stage 76.1 (TID 107898) (192.168.0.132 executor 15): TaskKilled (Stage cancelled)\n",
      "24/09/27 13:10:26 WARN TaskSetManager: Lost task 97.0 in stage 76.1 (TID 107882) (192.168.0.132 executor 15): TaskKilled (Stage cancelled)\n",
      "24/09/27 13:10:26 WARN TaskSetManager: Lost task 134.0 in stage 76.1 (TID 107908) (192.168.0.136 executor 19): TaskKilled (Stage cancelled)\n",
      "24/09/27 13:10:26 WARN TaskSetManager: Lost task 160.0 in stage 76.1 (TID 107932) (192.168.0.136 executor 19): TaskKilled (Stage cancelled)\n",
      "24/09/27 13:10:26 WARN TaskSetManager: Lost task 137.0 in stage 76.1 (TID 107911) (192.168.0.136 executor 19): TaskKilled (Stage cancelled)\n",
      "24/09/27 13:10:26 WARN TaskSetManager: Lost task 127.0 in stage 76.1 (TID 107901) (192.168.0.132 executor 15): TaskKilled (Stage cancelled)\n",
      "24/09/27 13:10:26 WARN TaskSetManager: Lost task 128.0 in stage 76.1 (TID 107902) (192.168.0.132 executor 15): TaskKilled (Stage cancelled)\n",
      "24/09/27 13:10:26 WARN TaskSetManager: Lost task 129.0 in stage 76.1 (TID 107903) (192.168.0.132 executor 15): TaskKilled (Stage cancelled)\n",
      "24/09/27 13:10:26 WARN TaskSetManager: Lost task 166.0 in stage 76.1 (TID 107938) (192.168.0.136 executor 19): TaskKilled (Stage cancelled)\n",
      "24/09/27 13:10:26 WARN TaskSetManager: Lost task 131.0 in stage 76.1 (TID 107905) (192.168.0.132 executor 15): TaskKilled (Stage cancelled)\n",
      "24/09/27 13:10:26 WARN TaskSetManager: Lost task 130.0 in stage 76.1 (TID 107904) (192.168.0.132 executor 15): TaskKilled (Stage cancelled)\n",
      "24/09/27 13:10:26 WARN TaskSetManager: Lost task 109.0 in stage 76.1 (TID 107886) (192.168.0.132 executor 15): TaskKilled (Stage cancelled)\n",
      "24/09/27 13:10:26 WARN TaskSetManager: Lost task 112.0 in stage 76.1 (TID 107888) (192.168.0.132 executor 15): TaskKilled (Stage cancelled)\n",
      "24/09/27 13:10:26 WARN TaskSetManager: Lost task 119.0 in stage 76.1 (TID 107894) (192.168.0.132 executor 15): TaskKilled (Stage cancelled)\n",
      "                                                                                \r"
     ]
    },
    {
     "name": "stdout",
     "output_type": "stream",
     "text": [
      "CPU times: user 47.4 ms, sys: 3.98 ms, total: 51.4 ms\n",
      "Wall time: 12.2 s\n"
     ]
    }
   ],
   "source": [
    "%%time\n",
    "#calculating in divided data \n",
    "file_num = [0, 1e4, 2e4, 3e4, 4e4, 5e4, 6e4, 7e4, 8e4, 9e4, 104290]\n",
    "#for i in range(10):\n",
    "for i in [0]:\n",
    "    subname = 'hdfs://sohnic:54310/data/TNG300/snap99/parquet/vdisp_240918_'+str(int(file_num[i]))+'_snappy.parquet'\n",
    "    filtered_df = velocity_dispersion_df.filter((velocity_dispersion_df[\"sub_id\"] > file_num[i]) &\n",
    "                                                (velocity_dispersion_df[\"sub_id\"] < file_num[i+1])\n",
    "                                               )\n",
    "    filtered_df.write.mode(\"overwrite\").parquet(subname, compression=\"snappy\")"
   ]
  },
  {
   "cell_type": "code",
   "execution_count": 13,
   "id": "fdcb4fed-f96e-434a-97e6-751b9f3cf16b",
   "metadata": {},
   "outputs": [
    {
     "data": {
      "text/plain": [
       "57000"
      ]
     },
     "execution_count": 13,
     "metadata": {},
     "output_type": "execute_result"
    }
   ],
   "source": [
    "i*3000"
   ]
  },
  {
   "cell_type": "code",
   "execution_count": 18,
   "id": "a5dd3b3e-9fec-4f55-b6a6-444cdecfd54f",
   "metadata": {},
   "outputs": [
    {
     "data": {
      "text/html": [
       "<div>\n",
       "<style scoped>\n",
       "    .dataframe tbody tr th:only-of-type {\n",
       "        vertical-align: middle;\n",
       "    }\n",
       "\n",
       "    .dataframe tbody tr th {\n",
       "        vertical-align: top;\n",
       "    }\n",
       "\n",
       "    .dataframe thead th {\n",
       "        text-align: right;\n",
       "    }\n",
       "</style>\n",
       "<table border=\"1\" class=\"dataframe\">\n",
       "  <thead>\n",
       "    <tr style=\"text-align: right;\">\n",
       "      <th></th>\n",
       "      <th>summary</th>\n",
       "      <th>sub_id</th>\n",
       "      <th>mass_weighted_velocity_dispersion_50</th>\n",
       "      <th>mass_weighted_velocity_dispersion_30</th>\n",
       "      <th>mass_weighted_velocity_dispersion_20</th>\n",
       "      <th>mass_weighted_velocity_dispersion_10</th>\n",
       "      <th>mass_weighted_velocity_dispersion_5</th>\n",
       "      <th>mass_weighted_velocity_dispersion_3</th>\n",
       "    </tr>\n",
       "  </thead>\n",
       "  <tbody>\n",
       "    <tr>\n",
       "      <th>0</th>\n",
       "      <td>count</td>\n",
       "      <td>1</td>\n",
       "      <td>1</td>\n",
       "      <td>1</td>\n",
       "      <td>1</td>\n",
       "      <td>1</td>\n",
       "      <td>1</td>\n",
       "      <td>1</td>\n",
       "    </tr>\n",
       "    <tr>\n",
       "      <th>1</th>\n",
       "      <td>mean</td>\n",
       "      <td>58500.0</td>\n",
       "      <td>275.02324402398716</td>\n",
       "      <td>188.40888982038877</td>\n",
       "      <td>159.38834687070212</td>\n",
       "      <td>145.80983235813972</td>\n",
       "      <td>144.4308254868995</td>\n",
       "      <td>140.31133703063</td>\n",
       "    </tr>\n",
       "    <tr>\n",
       "      <th>2</th>\n",
       "      <td>stddev</td>\n",
       "      <td>None</td>\n",
       "      <td>None</td>\n",
       "      <td>None</td>\n",
       "      <td>None</td>\n",
       "      <td>None</td>\n",
       "      <td>None</td>\n",
       "      <td>None</td>\n",
       "    </tr>\n",
       "    <tr>\n",
       "      <th>3</th>\n",
       "      <td>min</td>\n",
       "      <td>58500</td>\n",
       "      <td>275.02324402398716</td>\n",
       "      <td>188.40888982038877</td>\n",
       "      <td>159.38834687070212</td>\n",
       "      <td>145.80983235813972</td>\n",
       "      <td>144.4308254868995</td>\n",
       "      <td>140.31133703063</td>\n",
       "    </tr>\n",
       "    <tr>\n",
       "      <th>4</th>\n",
       "      <td>max</td>\n",
       "      <td>58500</td>\n",
       "      <td>275.02324402398716</td>\n",
       "      <td>188.40888982038877</td>\n",
       "      <td>159.38834687070212</td>\n",
       "      <td>145.80983235813972</td>\n",
       "      <td>144.4308254868995</td>\n",
       "      <td>140.31133703063</td>\n",
       "    </tr>\n",
       "  </tbody>\n",
       "</table>\n",
       "</div>"
      ],
      "text/plain": [
       "  summary   sub_id mass_weighted_velocity_dispersion_50  \\\n",
       "0   count        1                                    1   \n",
       "1    mean  58500.0                   275.02324402398716   \n",
       "2  stddev     None                                 None   \n",
       "3     min    58500                   275.02324402398716   \n",
       "4     max    58500                   275.02324402398716   \n",
       "\n",
       "  mass_weighted_velocity_dispersion_30 mass_weighted_velocity_dispersion_20  \\\n",
       "0                                    1                                    1   \n",
       "1                   188.40888982038877                   159.38834687070212   \n",
       "2                                 None                                 None   \n",
       "3                   188.40888982038877                   159.38834687070212   \n",
       "4                   188.40888982038877                   159.38834687070212   \n",
       "\n",
       "  mass_weighted_velocity_dispersion_10 mass_weighted_velocity_dispersion_5  \\\n",
       "0                                    1                                   1   \n",
       "1                   145.80983235813972                   144.4308254868995   \n",
       "2                                 None                                None   \n",
       "3                   145.80983235813972                   144.4308254868995   \n",
       "4                   145.80983235813972                   144.4308254868995   \n",
       "\n",
       "  mass_weighted_velocity_dispersion_3  \n",
       "0                                   1  \n",
       "1                     140.31133703063  \n",
       "2                                None  \n",
       "3                     140.31133703063  \n",
       "4                     140.31133703063  "
      ]
     },
     "execution_count": 18,
     "metadata": {},
     "output_type": "execute_result"
    }
   ],
   "source": [
    "df = spark.read.parquet(subname)\n",
    "\n",
    "df_filtered = df.filter(df.sub_id == 58500)\n",
    "df_filtered.describe().toPandas()\n",
    "\n",
    "#subhalo_count = df.select(\"sub_id\").distinct().count()\n",
    "#print(f\"Number of distinct subhalo IDs: {subhalo_count}\")"
   ]
  }
 ],
 "metadata": {
  "kernelspec": {
   "display_name": "Python 3 (ipykernel)",
   "language": "python",
   "name": "python3"
  },
  "language_info": {
   "codemirror_mode": {
    "name": "ipython",
    "version": 3
   },
   "file_extension": ".py",
   "mimetype": "text/x-python",
   "name": "python",
   "nbconvert_exporter": "python",
   "pygments_lexer": "ipython3",
   "version": "3.10.12"
  }
 },
 "nbformat": 4,
 "nbformat_minor": 5
}
